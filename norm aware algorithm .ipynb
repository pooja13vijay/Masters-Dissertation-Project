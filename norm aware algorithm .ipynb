{
 "cells": [
  {
   "cell_type": "code",
   "execution_count": 1,
   "id": "a4e77a5a",
   "metadata": {
    "execution": {
     "iopub.execute_input": "2023-09-02T22:11:18.474904Z",
     "iopub.status.busy": "2023-09-02T22:11:18.474518Z",
     "iopub.status.idle": "2023-09-02T22:11:29.596102Z",
     "shell.execute_reply": "2023-09-02T22:11:29.595143Z"
    },
    "papermill": {
     "duration": 11.139041,
     "end_time": "2023-09-02T22:11:29.598354",
     "exception": false,
     "start_time": "2023-09-02T22:11:18.459313",
     "status": "completed"
    },
    "tags": []
   },
   "outputs": [],
   "source": [
    "import pickle\n",
    "\n",
    "# load data\n",
    "with (open('/kaggle/input/norm-data-no-duplicates/norm_data_no_duplicates.pkl', \"rb\")) as openfile:\n",
    "     norm_data = pickle.load(openfile)"
   ]
  },
  {
   "cell_type": "code",
   "execution_count": 2,
   "id": "c07ed09b",
   "metadata": {
    "execution": {
     "iopub.execute_input": "2023-09-02T22:11:29.619209Z",
     "iopub.status.busy": "2023-09-02T22:11:29.618863Z",
     "iopub.status.idle": "2023-09-02T22:11:35.218818Z",
     "shell.execute_reply": "2023-09-02T22:11:35.217867Z"
    },
    "papermill": {
     "duration": 5.612795,
     "end_time": "2023-09-02T22:11:35.220914",
     "exception": false,
     "start_time": "2023-09-02T22:11:29.608119",
     "status": "completed"
    },
    "tags": []
   },
   "outputs": [],
   "source": [
    "norm_data['action'] = norm_data['action'].fillna(value=-1) # fill all none actions with -1"
   ]
  },
  {
   "cell_type": "code",
   "execution_count": 3,
   "id": "71de0735",
   "metadata": {
    "execution": {
     "iopub.execute_input": "2023-09-02T22:11:35.245258Z",
     "iopub.status.busy": "2023-09-02T22:11:35.244764Z",
     "iopub.status.idle": "2023-09-02T22:11:35.417846Z",
     "shell.execute_reply": "2023-09-02T22:11:35.416552Z"
    },
    "papermill": {
     "duration": 0.189185,
     "end_time": "2023-09-02T22:11:35.422728",
     "exception": false,
     "start_time": "2023-09-02T22:11:35.233543",
     "status": "completed"
    },
    "tags": []
   },
   "outputs": [],
   "source": [
    "norm_data = norm_data[norm_data.action != -1] # remove data with actions == -1"
   ]
  },
  {
   "cell_type": "code",
   "execution_count": 4,
   "id": "619cd1fe",
   "metadata": {
    "execution": {
     "iopub.execute_input": "2023-09-02T22:11:35.465778Z",
     "iopub.status.busy": "2023-09-02T22:11:35.465364Z",
     "iopub.status.idle": "2023-09-02T22:11:35.488812Z",
     "shell.execute_reply": "2023-09-02T22:11:35.487663Z"
    },
    "papermill": {
     "duration": 0.058668,
     "end_time": "2023-09-02T22:11:35.491180",
     "exception": false,
     "start_time": "2023-09-02T22:11:35.432512",
     "status": "completed"
    },
    "tags": []
   },
   "outputs": [
    {
     "data": {
      "text/plain": [
       "array([ 4,  0,  1,  8,  3,  5,  9,  2,  6,  7, 10])"
      ]
     },
     "execution_count": 4,
     "metadata": {},
     "output_type": "execute_result"
    }
   ],
   "source": [
    "norm_data['action'].unique() # get unique values of actions"
   ]
  },
  {
   "cell_type": "code",
   "execution_count": 5,
   "id": "9d3e1ec2",
   "metadata": {
    "execution": {
     "iopub.execute_input": "2023-09-02T22:11:35.513499Z",
     "iopub.status.busy": "2023-09-02T22:11:35.513117Z",
     "iopub.status.idle": "2023-09-02T22:11:35.518320Z",
     "shell.execute_reply": "2023-09-02T22:11:35.517662Z"
    },
    "papermill": {
     "duration": 0.01706,
     "end_time": "2023-09-02T22:11:35.519820",
     "exception": false,
     "start_time": "2023-09-02T22:11:35.502760",
     "status": "completed"
    },
    "tags": []
   },
   "outputs": [
    {
     "data": {
      "text/plain": [
       "(1245518, 5)"
      ]
     },
     "execution_count": 5,
     "metadata": {},
     "output_type": "execute_result"
    }
   ],
   "source": [
    "norm_data.shape # get shape of data"
   ]
  },
  {
   "cell_type": "code",
   "execution_count": 6,
   "id": "c5733abc",
   "metadata": {
    "execution": {
     "iopub.execute_input": "2023-09-02T22:11:35.541360Z",
     "iopub.status.busy": "2023-09-02T22:11:35.540753Z",
     "iopub.status.idle": "2023-09-02T22:11:35.545702Z",
     "shell.execute_reply": "2023-09-02T22:11:35.543941Z"
    },
    "papermill": {
     "duration": 0.017944,
     "end_time": "2023-09-02T22:11:35.547710",
     "exception": false,
     "start_time": "2023-09-02T22:11:35.529766",
     "status": "completed"
    },
    "tags": []
   },
   "outputs": [],
   "source": [
    "norm_data2 = norm_data # copy"
   ]
  },
  {
   "cell_type": "code",
   "execution_count": 7,
   "id": "b6c6131e",
   "metadata": {
    "execution": {
     "iopub.execute_input": "2023-09-02T22:11:35.569745Z",
     "iopub.status.busy": "2023-09-02T22:11:35.569383Z",
     "iopub.status.idle": "2023-09-02T22:11:35.573500Z",
     "shell.execute_reply": "2023-09-02T22:11:35.572667Z"
    },
    "papermill": {
     "duration": 0.016847,
     "end_time": "2023-09-02T22:11:35.575356",
     "exception": false,
     "start_time": "2023-09-02T22:11:35.558509",
     "status": "completed"
    },
    "tags": []
   },
   "outputs": [],
   "source": [
    "norm_data3 = norm_data # copy"
   ]
  },
  {
   "cell_type": "code",
   "execution_count": 8,
   "id": "271b12a4",
   "metadata": {
    "execution": {
     "iopub.execute_input": "2023-09-02T22:11:35.597875Z",
     "iopub.status.busy": "2023-09-02T22:11:35.596913Z",
     "iopub.status.idle": "2023-09-02T22:11:35.616519Z",
     "shell.execute_reply": "2023-09-02T22:11:35.615153Z"
    },
    "papermill": {
     "duration": 0.033428,
     "end_time": "2023-09-02T22:11:35.618433",
     "exception": false,
     "start_time": "2023-09-02T22:11:35.585005",
     "status": "completed"
    },
    "tags": []
   },
   "outputs": [
    {
     "data": {
      "text/html": [
       "<div>\n",
       "<style scoped>\n",
       "    .dataframe tbody tr th:only-of-type {\n",
       "        vertical-align: middle;\n",
       "    }\n",
       "\n",
       "    .dataframe tbody tr th {\n",
       "        vertical-align: top;\n",
       "    }\n",
       "\n",
       "    .dataframe thead th {\n",
       "        text-align: right;\n",
       "    }\n",
       "</style>\n",
       "<table border=\"1\" class=\"dataframe\">\n",
       "  <thead>\n",
       "    <tr style=\"text-align: right;\">\n",
       "      <th></th>\n",
       "      <th>observation</th>\n",
       "      <th>action</th>\n",
       "      <th>state_norm</th>\n",
       "      <th>action_norm</th>\n",
       "      <th>behaviour_norm</th>\n",
       "    </tr>\n",
       "  </thead>\n",
       "  <tbody>\n",
       "    <tr>\n",
       "      <th>674523</th>\n",
       "      <td>[0.0, 0.0, 0.0, 1.0, 0.0, 0.0, 0.0, 0.0, 0.0, ...</td>\n",
       "      <td>4</td>\n",
       "      <td>2</td>\n",
       "      <td>0</td>\n",
       "      <td>2</td>\n",
       "    </tr>\n",
       "    <tr>\n",
       "      <th>1343284</th>\n",
       "      <td>[0.0, 0.0, 0.0, 0.0, 0.0, 0.0, 0.0, 0.0, 1.0, ...</td>\n",
       "      <td>0</td>\n",
       "      <td>2</td>\n",
       "      <td>2</td>\n",
       "      <td>1</td>\n",
       "    </tr>\n",
       "    <tr>\n",
       "      <th>595471</th>\n",
       "      <td>[0.0, 1.0, 0.0, 0.0, 0.0, 0.0, 0.0, 0.0, 0.0, ...</td>\n",
       "      <td>4</td>\n",
       "      <td>2</td>\n",
       "      <td>0</td>\n",
       "      <td>2</td>\n",
       "    </tr>\n",
       "    <tr>\n",
       "      <th>1602706</th>\n",
       "      <td>[1.0, 0.0, 0.0, 0.0, 0.0, 0.0, 0.0, 0.0, 0.0, ...</td>\n",
       "      <td>1</td>\n",
       "      <td>2</td>\n",
       "      <td>2</td>\n",
       "      <td>2</td>\n",
       "    </tr>\n",
       "    <tr>\n",
       "      <th>782150</th>\n",
       "      <td>[1.0, 0.0, 0.0, 0.0, 0.0, 0.0, 0.0, 0.0, 0.0, ...</td>\n",
       "      <td>4</td>\n",
       "      <td>2</td>\n",
       "      <td>0</td>\n",
       "      <td>2</td>\n",
       "    </tr>\n",
       "  </tbody>\n",
       "</table>\n",
       "</div>"
      ],
      "text/plain": [
       "                                               observation  action  \\\n",
       "674523   [0.0, 0.0, 0.0, 1.0, 0.0, 0.0, 0.0, 0.0, 0.0, ...       4   \n",
       "1343284  [0.0, 0.0, 0.0, 0.0, 0.0, 0.0, 0.0, 0.0, 1.0, ...       0   \n",
       "595471   [0.0, 1.0, 0.0, 0.0, 0.0, 0.0, 0.0, 0.0, 0.0, ...       4   \n",
       "1602706  [1.0, 0.0, 0.0, 0.0, 0.0, 0.0, 0.0, 0.0, 0.0, ...       1   \n",
       "782150   [1.0, 0.0, 0.0, 0.0, 0.0, 0.0, 0.0, 0.0, 0.0, ...       4   \n",
       "\n",
       "         state_norm  action_norm  behaviour_norm  \n",
       "674523            2            0               2  \n",
       "1343284           2            2               1  \n",
       "595471            2            0               2  \n",
       "1602706           2            2               2  \n",
       "782150            2            0               2  "
      ]
     },
     "execution_count": 8,
     "metadata": {},
     "output_type": "execute_result"
    }
   ],
   "source": [
    "norm_data2.head() # view data"
   ]
  },
  {
   "cell_type": "code",
   "execution_count": 9,
   "id": "8c7cae79",
   "metadata": {
    "execution": {
     "iopub.execute_input": "2023-09-02T22:11:35.640559Z",
     "iopub.status.busy": "2023-09-02T22:11:35.640010Z",
     "iopub.status.idle": "2023-09-02T22:11:36.895278Z",
     "shell.execute_reply": "2023-09-02T22:11:36.894372Z"
    },
    "papermill": {
     "duration": 1.268818,
     "end_time": "2023-09-02T22:11:36.897137",
     "exception": false,
     "start_time": "2023-09-02T22:11:35.628319",
     "status": "completed"
    },
    "tags": []
   },
   "outputs": [
    {
     "name": "stderr",
     "output_type": "stream",
     "text": [
      "/tmp/ipykernel_20/3118508101.py:4: DeprecationWarning: `np.int` is a deprecated alias for the builtin `int`. To silence this warning, use `int` by itself. Doing this will not modify any behavior and is safe. When replacing `np.int`, you may wish to use e.g. `np.int64` or `np.int32` to specify the precision. If you wish to review your current use, check the release note link for additional information.\n",
      "Deprecated in NumPy 1.20; for more details and guidance: https://numpy.org/devdocs/release/1.20.0-notes.html#deprecations\n",
      "  action1 = np.array(list(norm_data['action']), dtype=np.int)\n",
      "/tmp/ipykernel_20/3118508101.py:5: DeprecationWarning: `np.int` is a deprecated alias for the builtin `int`. To silence this warning, use `int` by itself. Doing this will not modify any behavior and is safe. When replacing `np.int`, you may wish to use e.g. `np.int64` or `np.int32` to specify the precision. If you wish to review your current use, check the release note link for additional information.\n",
      "Deprecated in NumPy 1.20; for more details and guidance: https://numpy.org/devdocs/release/1.20.0-notes.html#deprecations\n",
      "  behav_norm1 = np.array(list(norm_data['behaviour_norm']), dtype=np.int)\n",
      "/tmp/ipykernel_20/3118508101.py:6: DeprecationWarning: `np.int` is a deprecated alias for the builtin `int`. To silence this warning, use `int` by itself. Doing this will not modify any behavior and is safe. When replacing `np.int`, you may wish to use e.g. `np.int64` or `np.int32` to specify the precision. If you wish to review your current use, check the release note link for additional information.\n",
      "Deprecated in NumPy 1.20; for more details and guidance: https://numpy.org/devdocs/release/1.20.0-notes.html#deprecations\n",
      "  action_norm1 = np.array(list(norm_data['action_norm']), dtype=np.int)\n",
      "/tmp/ipykernel_20/3118508101.py:7: DeprecationWarning: `np.int` is a deprecated alias for the builtin `int`. To silence this warning, use `int` by itself. Doing this will not modify any behavior and is safe. When replacing `np.int`, you may wish to use e.g. `np.int64` or `np.int32` to specify the precision. If you wish to review your current use, check the release note link for additional information.\n",
      "Deprecated in NumPy 1.20; for more details and guidance: https://numpy.org/devdocs/release/1.20.0-notes.html#deprecations\n",
      "  state_norm1 = np.array(list(norm_data['state_norm']), dtype=np.int)\n"
     ]
    }
   ],
   "source": [
    "import numpy as np\n",
    "\n",
    "# convert data to float\n",
    "\n",
    "obs = np.array(list(norm_data['observation']), dtype=np.float32)\n",
    "action1 = np.array(list(norm_data['action']), dtype=np.int)\n",
    "behav_norm1 = np.array(list(norm_data['behaviour_norm']), dtype=np.int)\n",
    "action_norm1 = np.array(list(norm_data['action_norm']), dtype=np.int)\n",
    "state_norm1 = np.array(list(norm_data['state_norm']), dtype=np.int)"
   ]
  },
  {
   "cell_type": "code",
   "execution_count": 10,
   "id": "0b3636c1",
   "metadata": {
    "execution": {
     "iopub.execute_input": "2023-09-02T22:11:36.919175Z",
     "iopub.status.busy": "2023-09-02T22:11:36.918829Z",
     "iopub.status.idle": "2023-09-02T22:11:36.923763Z",
     "shell.execute_reply": "2023-09-02T22:11:36.922741Z"
    },
    "papermill": {
     "duration": 0.018543,
     "end_time": "2023-09-02T22:11:36.925965",
     "exception": false,
     "start_time": "2023-09-02T22:11:36.907422",
     "status": "completed"
    },
    "tags": []
   },
   "outputs": [],
   "source": [
    "# reshape data\n",
    "\n",
    "action1 = action1.reshape(-1,1)\n",
    "behav_norm1 = behav_norm1.reshape(-1,1)\n",
    "action_norm1 = action_norm1.reshape(-1,1)\n",
    "state_norm1 = state_norm1.reshape(-1,1)"
   ]
  },
  {
   "cell_type": "code",
   "execution_count": 11,
   "id": "2e8d9920",
   "metadata": {
    "execution": {
     "iopub.execute_input": "2023-09-02T22:11:36.949263Z",
     "iopub.status.busy": "2023-09-02T22:11:36.947694Z",
     "iopub.status.idle": "2023-09-02T22:11:36.966839Z",
     "shell.execute_reply": "2023-09-02T22:11:36.965513Z"
    },
    "papermill": {
     "duration": 0.033327,
     "end_time": "2023-09-02T22:11:36.969529",
     "exception": false,
     "start_time": "2023-09-02T22:11:36.936202",
     "status": "completed"
    },
    "tags": []
   },
   "outputs": [],
   "source": [
    "final_data  = np.concatenate((action1, behav_norm1, action_norm1, state_norm1), axis=1) # concatenate reshaped data"
   ]
  },
  {
   "cell_type": "code",
   "execution_count": 12,
   "id": "b6035412",
   "metadata": {
    "execution": {
     "iopub.execute_input": "2023-09-02T22:11:36.991574Z",
     "iopub.status.busy": "2023-09-02T22:11:36.991230Z",
     "iopub.status.idle": "2023-09-02T22:11:36.998648Z",
     "shell.execute_reply": "2023-09-02T22:11:36.997431Z"
    },
    "papermill": {
     "duration": 0.020369,
     "end_time": "2023-09-02T22:11:37.000362",
     "exception": false,
     "start_time": "2023-09-02T22:11:36.979993",
     "status": "completed"
    },
    "tags": []
   },
   "outputs": [
    {
     "data": {
      "text/plain": [
       "array([[4, 2, 0, 2],\n",
       "       [0, 1, 2, 2],\n",
       "       [4, 2, 0, 2],\n",
       "       ...,\n",
       "       [7, 2, 1, 0],\n",
       "       [9, 2, 1, 0],\n",
       "       [7, 2, 1, 0]])"
      ]
     },
     "execution_count": 12,
     "metadata": {},
     "output_type": "execute_result"
    }
   ],
   "source": [
    "final_data # view final data"
   ]
  },
  {
   "cell_type": "code",
   "execution_count": 13,
   "id": "d199174e",
   "metadata": {
    "execution": {
     "iopub.execute_input": "2023-09-02T22:11:37.022687Z",
     "iopub.status.busy": "2023-09-02T22:11:37.022321Z",
     "iopub.status.idle": "2023-09-02T22:11:48.345276Z",
     "shell.execute_reply": "2023-09-02T22:11:48.343999Z"
    },
    "papermill": {
     "duration": 11.33693,
     "end_time": "2023-09-02T22:11:48.347582",
     "exception": false,
     "start_time": "2023-09-02T22:11:37.010652",
     "status": "completed"
    },
    "tags": []
   },
   "outputs": [
    {
     "name": "stderr",
     "output_type": "stream",
     "text": [
      "/opt/conda/lib/python3.10/site-packages/scipy/__init__.py:146: UserWarning: A NumPy version >=1.16.5 and <1.23.0 is required for this version of SciPy (detected version 1.23.5\n",
      "  warnings.warn(f\"A NumPy version >={np_minversion} and <{np_maxversion}\"\n"
     ]
    }
   ],
   "source": [
    "import torch.nn as nn\n",
    "from sklearn.model_selection import train_test_split\n",
    "from torch.utils.data import DataLoader, Dataset\n",
    "import numpy as np\n",
    "\n",
    "# split data into train and test set\n",
    "\n",
    "X_train, X_test, y_train, y_test = train_test_split(obs, final_data, test_size=0.30, random_state=2023,\n",
    "                                                    stratify=final_data)"
   ]
  },
  {
   "cell_type": "code",
   "execution_count": 14,
   "id": "19247fb7",
   "metadata": {
    "execution": {
     "iopub.execute_input": "2023-09-02T22:11:48.372199Z",
     "iopub.status.busy": "2023-09-02T22:11:48.370808Z",
     "iopub.status.idle": "2023-09-02T22:11:48.378069Z",
     "shell.execute_reply": "2023-09-02T22:11:48.376711Z"
    },
    "papermill": {
     "duration": 0.021685,
     "end_time": "2023-09-02T22:11:48.380419",
     "exception": false,
     "start_time": "2023-09-02T22:11:48.358734",
     "status": "completed"
    },
    "tags": []
   },
   "outputs": [
    {
     "data": {
      "text/plain": [
       "(871862, 171)"
      ]
     },
     "execution_count": 14,
     "metadata": {},
     "output_type": "execute_result"
    }
   ],
   "source": [
    "X_train.shape # view shape of train set"
   ]
  },
  {
   "cell_type": "code",
   "execution_count": 15,
   "id": "14dcf8d9",
   "metadata": {
    "execution": {
     "iopub.execute_input": "2023-09-02T22:11:48.406341Z",
     "iopub.status.busy": "2023-09-02T22:11:48.404953Z",
     "iopub.status.idle": "2023-09-02T22:11:48.413921Z",
     "shell.execute_reply": "2023-09-02T22:11:48.412301Z"
    },
    "papermill": {
     "duration": 0.024033,
     "end_time": "2023-09-02T22:11:48.416429",
     "exception": false,
     "start_time": "2023-09-02T22:11:48.392396",
     "status": "completed"
    },
    "tags": []
   },
   "outputs": [],
   "source": [
    "import torch as T\n",
    "import torch\n",
    "\n",
    "# create custom dataset for dataloaders\n",
    "\n",
    "class CustomDataset(T.utils.data.Dataset):\n",
    "\n",
    "    def __init__(self, x_data, y_data):\n",
    "        self.x_data = torch.from_numpy(x_data)\n",
    "        self.y_data = torch.from_numpy(y_data)\n",
    "\n",
    "    def __len__(self):\n",
    "        return len(self.x_data)\n",
    "\n",
    "    def __getitem__(self, idx):\n",
    "        x_data = self.x_data[idx]\n",
    "        y_data = self.y_data[idx]\n",
    "        return x_data, y_data[0], y_data[1], y_data[2], y_data[3]  # as a tuple"
   ]
  },
  {
   "cell_type": "code",
   "execution_count": 16,
   "id": "b57a4b2d",
   "metadata": {
    "execution": {
     "iopub.execute_input": "2023-09-02T22:11:48.440492Z",
     "iopub.status.busy": "2023-09-02T22:11:48.439887Z",
     "iopub.status.idle": "2023-09-02T22:11:48.457449Z",
     "shell.execute_reply": "2023-09-02T22:11:48.455111Z"
    },
    "papermill": {
     "duration": 0.034305,
     "end_time": "2023-09-02T22:11:48.461641",
     "exception": false,
     "start_time": "2023-09-02T22:11:48.427336",
     "status": "completed"
    },
    "tags": []
   },
   "outputs": [],
   "source": [
    "sets = {\n",
    "    'train': (X_train, y_train), 'test': (X_test, y_test)\n",
    "}\n",
    "\n",
    "# create train and test dataset for pytorch\n",
    "\n",
    "datasets = {\n",
    "    x: CustomDataset(sets[x][0], sets[x][1]) for x in sets.keys()\n",
    "}\n",
    "\n",
    "\n",
    " # create dataloaders with batch size 128\n",
    "    \n",
    "dataloaders = {\n",
    "    x: DataLoader(datasets[x], batch_size=128) for x in sets.keys()\n",
    "}"
   ]
  },
  {
   "cell_type": "code",
   "execution_count": 17,
   "id": "9c6cb1a0",
   "metadata": {
    "execution": {
     "iopub.execute_input": "2023-09-02T22:11:48.488813Z",
     "iopub.status.busy": "2023-09-02T22:11:48.488117Z",
     "iopub.status.idle": "2023-09-02T22:11:48.500330Z",
     "shell.execute_reply": "2023-09-02T22:11:48.498697Z"
    },
    "papermill": {
     "duration": 0.029841,
     "end_time": "2023-09-02T22:11:48.503599",
     "exception": false,
     "start_time": "2023-09-02T22:11:48.473758",
     "status": "completed"
    },
    "tags": []
   },
   "outputs": [],
   "source": [
    "import torch.nn.functional as F\n",
    "\n",
    "# create norm aware algorithm model class\n",
    "\n",
    "class MultiOutputNormNet(torch.nn.Module):\n",
    "    def __init__(self, num_classes1, num_classes2):\n",
    "        super(MultiOutputNormNet, self).__init__()\n",
    "\n",
    "        self.fc1 = torch.nn.Linear(171, 256) # fully connected layer\n",
    "        self.act = nn.ReLU() # relu activation\n",
    "        self.fc2 = torch.nn.Linear(256, 512) # fully connected layer\n",
    "        self.act2 = nn.ReLU()\n",
    "        self.fc21 = torch.nn.Linear(512, 256) # fully connected layer\n",
    "        self.act3 = nn.ReLU()\n",
    "        self.dropout = nn.Dropout(0.20) # 20% dropout\n",
    "        self.fc3 = torch.nn.Linear(256, num_classes1) # output action\n",
    "        self.fc4 = torch.nn.Linear(256, num_classes2) # output behaviour norm\n",
    "        self.fc5 = torch.nn.Linear(256, num_classes2) # output action norm\n",
    "        self.fc6 = torch.nn.Linear(256, num_classes2) # output state norm      \n",
    "\n",
    "        # forward pass\n",
    "    def forward(self, x):\n",
    "        output_1 = self.act(self.fc1(x))\n",
    "        output_2 = self.act2(self.fc2(output_1))\n",
    "        output_3 = self.act3(self.fc21(output_2))\n",
    "        output_3 = self.dropout(output_3)\n",
    "        output_4 = self.fc3(output_3)\n",
    "        output_5 = self.fc4(output_3)\n",
    "        output_6 = self.fc5(output_3)\n",
    "        output_7 = self.fc6(output_3)\n",
    "        return output_4, output_5, output_6, output_7 # return output"
   ]
  },
  {
   "cell_type": "code",
   "execution_count": 18,
   "id": "d63d4f00",
   "metadata": {
    "execution": {
     "iopub.execute_input": "2023-09-02T22:11:48.531031Z",
     "iopub.status.busy": "2023-09-02T22:11:48.530220Z",
     "iopub.status.idle": "2023-09-02T22:11:48.566420Z",
     "shell.execute_reply": "2023-09-02T22:11:48.564777Z"
    },
    "papermill": {
     "duration": 0.053361,
     "end_time": "2023-09-02T22:11:48.569274",
     "exception": false,
     "start_time": "2023-09-02T22:11:48.515913",
     "status": "completed"
    },
    "tags": []
   },
   "outputs": [],
   "source": [
    "model = MultiOutputNormNet(11, 3) # create instance of model"
   ]
  },
  {
   "cell_type": "code",
   "execution_count": 19,
   "id": "037bcbeb",
   "metadata": {
    "execution": {
     "iopub.execute_input": "2023-09-02T22:11:48.593093Z",
     "iopub.status.busy": "2023-09-02T22:11:48.592244Z",
     "iopub.status.idle": "2023-09-02T22:11:48.608483Z",
     "shell.execute_reply": "2023-09-02T22:11:48.607582Z"
    },
    "papermill": {
     "duration": 0.030602,
     "end_time": "2023-09-02T22:11:48.610692",
     "exception": false,
     "start_time": "2023-09-02T22:11:48.580090",
     "status": "completed"
    },
    "tags": []
   },
   "outputs": [],
   "source": [
    "device = 'cuda' if torch.cuda.is_available() else 'cpu'\n",
    "\n",
    "model = model.to(device) # move model to device\n",
    "lr = 1e-3  # set learning rate\n",
    "optimizer = torch.optim.Adam(model.parameters(), lr=lr) # define optimizer\n",
    "\n",
    "# define loss function for each predictions\n",
    "loss_fn_1 = torch.nn.CrossEntropyLoss().to(device)\n",
    "loss_fn_2 = torch.nn.CrossEntropyLoss().to(device)\n",
    "loss_fn_3 = torch.nn.CrossEntropyLoss().to(device)\n",
    "loss_fn_4 = torch.nn.CrossEntropyLoss().to(device)\n",
    "epochs = 20"
   ]
  },
  {
   "cell_type": "code",
   "execution_count": 20,
   "id": "a1d661df",
   "metadata": {
    "execution": {
     "iopub.execute_input": "2023-09-02T22:11:48.634220Z",
     "iopub.status.busy": "2023-09-02T22:11:48.633273Z",
     "iopub.status.idle": "2023-09-02T22:11:48.638594Z",
     "shell.execute_reply": "2023-09-02T22:11:48.637561Z"
    },
    "papermill": {
     "duration": 0.018782,
     "end_time": "2023-09-02T22:11:48.640370",
     "exception": false,
     "start_time": "2023-09-02T22:11:48.621588",
     "status": "completed"
    },
    "tags": []
   },
   "outputs": [],
   "source": [
    "# lists to store train loss and accuracies\n",
    "\n",
    "train_overall_loss = []\n",
    "train_action_accuracy = []\n",
    "train_behav_norm_accuracy = []\n",
    "train_action_norm_accuracy = []\n",
    "train_state_norm_accuracy = []"
   ]
  },
  {
   "cell_type": "code",
   "execution_count": 21,
   "id": "5085fd8a",
   "metadata": {
    "execution": {
     "iopub.execute_input": "2023-09-02T22:11:48.662899Z",
     "iopub.status.busy": "2023-09-02T22:11:48.662388Z",
     "iopub.status.idle": "2023-09-02T22:11:48.666778Z",
     "shell.execute_reply": "2023-09-02T22:11:48.665654Z"
    },
    "papermill": {
     "duration": 0.017618,
     "end_time": "2023-09-02T22:11:48.668468",
     "exception": false,
     "start_time": "2023-09-02T22:11:48.650850",
     "status": "completed"
    },
    "tags": []
   },
   "outputs": [],
   "source": [
    "# lists to store test accuracies\n",
    "\n",
    "test_action_accuracy = []\n",
    "test_behav_norm_accuracy = []\n",
    "test_action_norm_accuracy = []\n",
    "test_state_norm_accuracy = []"
   ]
  },
  {
   "cell_type": "code",
   "execution_count": 22,
   "id": "cc31229b",
   "metadata": {
    "execution": {
     "iopub.execute_input": "2023-09-02T22:11:48.691376Z",
     "iopub.status.busy": "2023-09-02T22:11:48.690217Z",
     "iopub.status.idle": "2023-09-02T22:11:48.702449Z",
     "shell.execute_reply": "2023-09-02T22:11:48.701434Z"
    },
    "papermill": {
     "duration": 0.02607,
     "end_time": "2023-09-02T22:11:48.704895",
     "exception": false,
     "start_time": "2023-09-02T22:11:48.678825",
     "status": "completed"
    },
    "tags": []
   },
   "outputs": [],
   "source": [
    "from sklearn.metrics import accuracy_score\n",
    "\n",
    "\n",
    "# define train function\n",
    "\n",
    "def train():\n",
    "    overall_loss = 0.\n",
    "    action_accuracy = 0.\n",
    "    behav_accuracy = 0.\n",
    "    action_norm_accuracy = 0.\n",
    "    state_accuracy = 0.\n",
    "\n",
    "\n",
    "    for data, action, behav_norm, action_norm, state_norm in dataloaders['train']: # iterate over dataloaders\n",
    "        optimizer.zero_grad()\n",
    "\n",
    "        data, action, behav_norm, action_norm, state_norm = data.to(device), action.to(device), behav_norm.to(device), action_norm.to(device), state_norm.to(device)\n",
    "        \n",
    "        output_1, output_2, output_3, output_4 = model(data) # pass data through model\n",
    "        \n",
    "        # calculate losses for outputs\n",
    "        loss_1 = loss_fn_1(output_1, action) \n",
    "        loss_2 = loss_fn_2(output_2, behav_norm)\n",
    "        loss_3 = loss_fn_2(output_3, action_norm)\n",
    "        loss_4 = loss_fn_2(output_4, state_norm)\n",
    "\n",
    "        loss = loss_1 + loss_2 + loss_3 + loss_4 # get sum of loss\n",
    "\n",
    "        overall_loss += loss.item()\n",
    "\n",
    "        # calculate accuracy for actions\n",
    "        action_accuracy += accuracy_score(action.cpu().detach().numpy(),\n",
    "                                            torch.argmax(output_1, dim=1).cpu().detach().numpy())\n",
    "        \n",
    "        # calculate accuracy for behaviour norm\n",
    "        behav_accuracy += accuracy_score(behav_norm.cpu().detach().numpy(),\n",
    "                                              torch.argmax(output_2, dim=1).cpu().detach().numpy())\n",
    "        \n",
    "        # calculate accuracy for action norm\n",
    "        action_norm_accuracy += accuracy_score(action_norm.cpu().detach().numpy(),\n",
    "                                            torch.argmax(output_3, dim=1).cpu().detach().numpy())\n",
    "        \n",
    "        # calculate accuracy for state norm\n",
    "        state_accuracy += accuracy_score(state_norm.cpu().detach().numpy(),\n",
    "                                              torch.argmax(output_4, dim=1).cpu().detach().numpy())\n",
    "\n",
    "        loss.backward() # backward pass\n",
    "        optimizer.step() \n",
    "    \n",
    "    # calculate average loss and accuracies over length of dataloader\n",
    "    overall_loss = overall_loss / len(dataloaders['train'])\n",
    "    train_overall_loss.append(overall_loss)\n",
    "    action_accuracy = action_accuracy / len(dataloaders['train'])\n",
    "    train_action_accuracy.append(action_accuracy)\n",
    "    behav_accuracy = behav_accuracy / len(dataloaders['train'])\n",
    "    train_behav_norm_accuracy.append(behav_accuracy)\n",
    "    action_norm_accuracy = action_norm_accuracy / len(dataloaders['train'])\n",
    "    train_action_norm_accuracy.append(action_norm_accuracy)\n",
    "    state_accuracy = state_accuracy / len(dataloaders['train'])\n",
    "    train_state_norm_accuracy.append(state_accuracy)\n",
    "    \n",
    "    # print average accuracies over length of dataloader\n",
    "    print('train action accuracy :', action_accuracy)\n",
    "    print('train behaviour norm accuracy :', behav_accuracy)\n",
    "    print('train action norm accuracy :', action_norm_accuracy)\n",
    "    print('train state norm accuracy :',state_accuracy)"
   ]
  },
  {
   "cell_type": "code",
   "execution_count": 23,
   "id": "bbcad488",
   "metadata": {
    "execution": {
     "iopub.execute_input": "2023-09-02T22:11:48.728051Z",
     "iopub.status.busy": "2023-09-02T22:11:48.727703Z",
     "iopub.status.idle": "2023-09-02T22:11:48.736898Z",
     "shell.execute_reply": "2023-09-02T22:11:48.736000Z"
    },
    "papermill": {
     "duration": 0.022925,
     "end_time": "2023-09-02T22:11:48.738651",
     "exception": false,
     "start_time": "2023-09-02T22:11:48.715726",
     "status": "completed"
    },
    "tags": []
   },
   "outputs": [],
   "source": [
    "# define test function\n",
    "\n",
    "def eval():\n",
    "    model.eval() # set model to evaluation mode\n",
    "\n",
    "    action_accuracy = 0.\n",
    "    behav_accuracy = 0.\n",
    "    action_norm_accuracy = 0.\n",
    "    state_accuracy = 0.\n",
    "\n",
    "    with torch.no_grad():\n",
    "        for data, action, behav_norm, action_norm, state_norm in dataloaders['test']:\n",
    "            data, action, behav_norm, action_norm, state_norm = data.to(device), action.to(device), behav_norm.to(device), action_norm.to(device), state_norm.to(device)\n",
    "            \n",
    "\n",
    "            output_1, output_2, output_3, output_4 = model(data) # pass data through model\n",
    "            \n",
    "            # calculate accuracy for actions\n",
    "            action_accuracy += accuracy_score(action.cpu().detach().numpy(),\n",
    "                                            torch.argmax(output_1, dim=1).cpu().detach().numpy())\n",
    "            \n",
    "            # calculate accuracy for behaviour norm\n",
    "            behav_accuracy += accuracy_score(behav_norm.cpu().detach().numpy(),\n",
    "                                              torch.argmax(output_2, dim=1).cpu().detach().numpy())\n",
    "            \n",
    "            # calculate accuracy for action norm\n",
    "            action_norm_accuracy += accuracy_score(action_norm.cpu().detach().numpy(),\n",
    "                                            torch.argmax(output_3, dim=1).cpu().detach().numpy())\n",
    "            \n",
    "            # calculate accuracy for state norm\n",
    "            state_accuracy += accuracy_score(state_norm.cpu().detach().numpy(),\n",
    "                                              torch.argmax(output_4, dim=1).cpu().detach().numpy())\n",
    "        \n",
    "        \n",
    "        # calculate average loss and accuracies over length of dataloader\n",
    "        action_accuracy = action_accuracy / len(dataloaders['test'])\n",
    "        test_action_accuracy.append(action_accuracy)\n",
    "        behav_accuracy = behav_accuracy / len(dataloaders['test'])\n",
    "        test_behav_norm_accuracy.append(behav_accuracy)\n",
    "        action_norm_accuracy = action_norm_accuracy / len(dataloaders['test'])\n",
    "        test_action_norm_accuracy.append(action_norm_accuracy)\n",
    "        state_accuracy = state_accuracy / len(dataloaders['test'])\n",
    "        test_state_norm_accuracy.append(state_accuracy)\n",
    "        \n",
    "         # print average accuracies over length of dataloader\n",
    "        print('test action accuracy :', action_accuracy)\n",
    "        print('test behaviour norm accuracy :', behav_accuracy)\n",
    "        print('test action norm accuracy :', action_norm_accuracy)\n",
    "        print('test state norm accuracy :', state_accuracy)\n",
    "\n",
    "    model.train()  # set model to train mode"
   ]
  },
  {
   "cell_type": "code",
   "execution_count": 24,
   "id": "64662f53",
   "metadata": {
    "execution": {
     "iopub.execute_input": "2023-09-02T22:11:48.762203Z",
     "iopub.status.busy": "2023-09-02T22:11:48.761384Z",
     "iopub.status.idle": "2023-09-02T22:39:43.969047Z",
     "shell.execute_reply": "2023-09-02T22:39:43.967882Z"
    },
    "papermill": {
     "duration": 1675.222162,
     "end_time": "2023-09-02T22:39:43.971464",
     "exception": false,
     "start_time": "2023-09-02T22:11:48.749302",
     "status": "completed"
    },
    "tags": []
   },
   "outputs": [
    {
     "name": "stdout",
     "output_type": "stream",
     "text": [
      "Epoch ; 0\n",
      "train action accuracy : 0.6763752453459038\n",
      "train behaviour norm accuracy : 0.9825755560041104\n",
      "train action norm accuracy : 0.8275295179666601\n",
      "train state norm accuracy : 0.9990354796682326\n",
      "test action accuracy : 0.7223209189497718\n",
      "test behaviour norm accuracy : 0.9854996075913242\n",
      "test action norm accuracy : 0.8557202482876712\n",
      "test state norm accuracy : 1.0\n",
      "Epoch ; 1\n",
      "train action accuracy : 0.729945690883191\n",
      "train behaviour norm accuracy : 0.985537929389313\n",
      "train action norm accuracy : 0.8582872120413867\n",
      "train state norm accuracy : 0.999982796902525\n",
      "test action accuracy : 0.7410075984589041\n",
      "test behaviour norm accuracy : 0.9861310288242009\n",
      "test action norm accuracy : 0.8637289526255707\n",
      "test state norm accuracy : 0.9999946489726027\n",
      "Epoch ; 2\n",
      "train action accuracy : 0.7445962734607773\n",
      "train behaviour norm accuracy : 0.9864595906461365\n",
      "train action norm accuracy : 0.8664304362807463\n",
      "train state norm accuracy : 0.99999541250734\n",
      "test action accuracy : 0.7486452982305937\n",
      "test behaviour norm accuracy : 0.9868266623858447\n",
      "test action norm accuracy : 0.8681087685502282\n",
      "test state norm accuracy : 1.0\n",
      "Epoch ; 3\n",
      "train action accuracy : 0.7542029078586807\n",
      "train behaviour norm accuracy : 0.9870915177600531\n",
      "train action norm accuracy : 0.8713941033388791\n",
      "train state norm accuracy : 0.9999919718878449\n",
      "test action accuracy : 0.7532338042237443\n",
      "test behaviour norm accuracy : 0.9869069277968036\n",
      "test action norm accuracy : 0.8700913242009132\n",
      "test state norm accuracy : 1.0\n",
      "Epoch ; 4\n",
      "train action accuracy : 0.7609889563760031\n",
      "train behaviour norm accuracy : 0.987464251538679\n",
      "train action norm accuracy : 0.8752487440464539\n",
      "train state norm accuracy : 0.99998853126835\n",
      "test action accuracy : 0.7546812571347032\n",
      "test behaviour norm accuracy : 0.9871102668378995\n",
      "test action norm accuracy : 0.8704828410388128\n",
      "test state norm accuracy : 1.0\n",
      "Epoch ; 5\n",
      "train action accuracy : 0.7669684557208413\n",
      "train behaviour norm accuracy : 0.9877693198005698\n",
      "train action norm accuracy : 0.8793171279305583\n",
      "train state norm accuracy : 0.99999770625367\n",
      "test action accuracy : 0.7576858590182649\n",
      "test behaviour norm accuracy : 0.9871905322488584\n",
      "test action norm accuracy : 0.8721666309931507\n",
      "test state norm accuracy : 0.9999973244863014\n",
      "Epoch ; 6\n",
      "train action accuracy : 0.7718269077852808\n",
      "train behaviour norm accuracy : 0.9881902222521259\n",
      "train action norm accuracy : 0.8817350338998717\n",
      "train state norm accuracy : 0.999987384395185\n",
      "test action accuracy : 0.7585554009703197\n",
      "test behaviour norm accuracy : 0.9869417094748858\n",
      "test action norm accuracy : 0.872718678652968\n",
      "test state norm accuracy : 1.0\n",
      "Epoch ; 7\n",
      "train action accuracy : 0.775350824253496\n",
      "train behaviour norm accuracy : 0.9884402406020966\n",
      "train action norm accuracy : 0.8840601705731715\n",
      "train state norm accuracy : 0.99999541250734\n",
      "test action accuracy : 0.7604960402397261\n",
      "test behaviour norm accuracy : 0.9871370219748858\n",
      "test action norm accuracy : 0.8730834403538813\n",
      "test state norm accuracy : 1.0\n",
      "Epoch ; 8\n",
      "train action accuracy : 0.7783591999956504\n",
      "train behaviour norm accuracy : 0.9887074620495423\n",
      "train action norm accuracy : 0.8862235981302059\n",
      "train state norm accuracy : 0.9999931187610099\n",
      "test action accuracy : 0.7596389840182649\n",
      "test behaviour norm accuracy : 0.9870059218036529\n",
      "test action norm accuracy : 0.873839718892694\n",
      "test state norm accuracy : 1.0\n",
      "Epoch ; 9\n",
      "train action accuracy : 0.7811297482248103\n",
      "train behaviour norm accuracy : 0.9891069986788021\n",
      "train action norm accuracy : 0.8883762790609164\n",
      "train state norm accuracy : 0.999994265634175\n",
      "test action accuracy : 0.7595319634703197\n",
      "test behaviour norm accuracy : 0.9869363584474885\n",
      "test action norm accuracy : 0.8727561358447488\n",
      "test state norm accuracy : 0.9999973244863014\n",
      "Epoch ; 10\n",
      "train action accuracy : 0.7839945099606359\n",
      "train behaviour norm accuracy : 0.9892728705198887\n",
      "train action norm accuracy : 0.8899807546187555\n",
      "train state norm accuracy : 0.99999082501468\n",
      "test action accuracy : 0.7581674514840183\n",
      "test behaviour norm accuracy : 0.9869524115296803\n",
      "test action norm accuracy : 0.8728658319063927\n",
      "test state norm accuracy : 1.0\n",
      "Epoch ; 11\n",
      "train action accuracy : 0.7866083613340293\n",
      "train behaviour norm accuracy : 0.9894304169113329\n",
      "train action norm accuracy : 0.8918134579364302\n",
      "train state norm accuracy : 0.99999541250734\n",
      "test action accuracy : 0.75863299086758\n",
      "test behaviour norm accuracy : 0.9871156178652968\n",
      "test action norm accuracy : 0.8724885844748858\n",
      "test state norm accuracy : 1.0\n",
      "Epoch ; 12\n",
      "train action accuracy : 0.7887735304392032\n",
      "train behaviour norm accuracy : 0.9897022258514386\n",
      "train action norm accuracy : 0.8934714117651856\n",
      "train state norm accuracy : 0.9999816500293599\n",
      "test action accuracy : 0.7591538242009132\n",
      "test behaviour norm accuracy : 0.9867142908105022\n",
      "test action norm accuracy : 0.8730103096461187\n",
      "test state norm accuracy : 1.0\n",
      "Epoch ; 13\n",
      "train action accuracy : 0.7908919326053153\n",
      "train behaviour norm accuracy : 0.9899522442014093\n",
      "train action norm accuracy : 0.8948067968970879\n",
      "train state norm accuracy : 0.9999919718878449\n",
      "test action accuracy : 0.7603863441780822\n",
      "test behaviour norm accuracy : 0.9870808361872145\n",
      "test action norm accuracy : 0.8730611444063926\n",
      "test state norm accuracy : 1.0\n",
      "Epoch ; 14\n",
      "train action accuracy : 0.7921441906711468\n",
      "train behaviour norm accuracy : 0.9900772533763946\n",
      "train action norm accuracy : 0.896011013720341\n",
      "train state norm accuracy : 0.9999931187610099\n",
      "test action accuracy : 0.7600652825342465\n",
      "test behaviour norm accuracy : 0.986925656392694\n",
      "test action norm accuracy : 0.8729755279680365\n",
      "test state norm accuracy : 1.0\n",
      "Epoch ; 15\n",
      "train action accuracy : 0.7940230662529089\n",
      "train behaviour norm accuracy : 0.9903314344511864\n",
      "train action norm accuracy : 0.8974001744606468\n",
      "train state norm accuracy : 0.999994265634175\n",
      "test action accuracy : 0.7585232948059362\n",
      "test behaviour norm accuracy : 0.9870942137557077\n",
      "test action norm accuracy : 0.8716252853881279\n",
      "test state norm accuracy : 1.0\n",
      "Epoch ; 16\n",
      "train action accuracy : 0.7959106495753682\n",
      "train behaviour norm accuracy : 0.9904832464768056\n",
      "train action norm accuracy : 0.8990353182564537\n",
      "train state norm accuracy : 0.999994265634175\n",
      "test action accuracy : 0.7579953267694063\n",
      "test behaviour norm accuracy : 0.9872092608447488\n",
      "test action norm accuracy : 0.8717572773972603\n",
      "test state norm accuracy : 0.9999946489726027\n",
      "Epoch ; 17\n",
      "train action accuracy : 0.7971944254148453\n",
      "train behaviour norm accuracy : 0.9906461024662361\n",
      "train action norm accuracy : 0.9000824134561014\n",
      "train state norm accuracy : 0.9999931187610099\n",
      "test action accuracy : 0.7589602953767123\n",
      "test behaviour norm accuracy : 0.9870621075913242\n",
      "test action norm accuracy : 0.8715735587899542\n",
      "test state norm accuracy : 1.0\n",
      "Epoch ; 18\n",
      "train action accuracy : 0.7985873241121333\n",
      "train behaviour norm accuracy : 0.9907917553581914\n",
      "train action norm accuracy : 0.9010705933564951\n",
      "train state norm accuracy : 0.99998623752202\n",
      "test action accuracy : 0.75699200913242\n",
      "test behaviour norm accuracy : 0.9871851812214611\n",
      "test action norm accuracy : 0.8715985302511416\n",
      "test state norm accuracy : 0.9999973244863014\n",
      "Epoch ; 19\n",
      "train action accuracy : 0.8002996057474827\n",
      "train behaviour norm accuracy : 0.9908949739430417\n",
      "train action norm accuracy : 0.9021938069528718\n",
      "train state norm accuracy : 0.99999541250734\n",
      "test action accuracy : 0.7569108518835617\n",
      "test behaviour norm accuracy : 0.9872012343036529\n",
      "test action norm accuracy : 0.8706166167237444\n",
      "test state norm accuracy : 1.0\n"
     ]
    }
   ],
   "source": [
    "# iterate over epochs and call train and test function\n",
    "\n",
    "for epoch in range(20):\n",
    "    print('Epoch ;', epoch)\n",
    "    train()\n",
    "    eval()"
   ]
  },
  {
   "cell_type": "code",
   "execution_count": 25,
   "id": "2805452a",
   "metadata": {
    "execution": {
     "iopub.execute_input": "2023-09-02T22:39:43.998507Z",
     "iopub.status.busy": "2023-09-02T22:39:43.998118Z",
     "iopub.status.idle": "2023-09-02T22:39:53.684347Z",
     "shell.execute_reply": "2023-09-02T22:39:53.683080Z"
    },
    "papermill": {
     "duration": 9.702461,
     "end_time": "2023-09-02T22:39:53.686848",
     "exception": false,
     "start_time": "2023-09-02T22:39:43.984387",
     "status": "completed"
    },
    "tags": []
   },
   "outputs": [],
   "source": [
    "# lists to store test labels and predictions\n",
    "\n",
    "behav_label = []\n",
    "behav_predict = []\n",
    "action_norm_label = []\n",
    "action_norm_predict = []\n",
    "action_label = []\n",
    "action_predict = []\n",
    "state_norm_label = []\n",
    "state_norm_predict = []\n",
    "\n",
    "with torch.no_grad():\n",
    "        for data, action, behav_norm, action_norm, state_norm in dataloaders['test']:\n",
    "            data, action, behav_norm, action_norm, state_norm = data.to(device), action.to(device), behav_norm.to(device), action_norm.to(device), state_norm.to(device)\n",
    "            \n",
    "\n",
    "            output_1, output_2, output_3, output_4 = model(data)\n",
    "            \n",
    "            # extract training labels and get predictions from model\n",
    "            behav_label.extend(behav_norm.cpu().detach().numpy())\n",
    "            behav_predict.extend(torch.argmax(output_2, dim=1).cpu().detach().numpy())\n",
    "            action_label.extend(action.cpu().detach().numpy())\n",
    "            action_predict.extend(torch.argmax(output_1, dim=1).cpu().detach().numpy())\n",
    "            action_norm_label.extend(action_norm.cpu().detach().numpy())\n",
    "            action_norm_predict.extend(torch.argmax(output_3, dim=1).cpu().detach().numpy())\n",
    "            state_norm_label.extend(state_norm.cpu().detach().numpy())\n",
    "            state_norm_predict.extend(torch.argmax(output_4, dim=1).cpu().detach().numpy())\n"
   ]
  },
  {
   "cell_type": "code",
   "execution_count": 26,
   "id": "a04b82d3",
   "metadata": {
    "execution": {
     "iopub.execute_input": "2023-09-02T22:39:53.716707Z",
     "iopub.status.busy": "2023-09-02T22:39:53.715449Z",
     "iopub.status.idle": "2023-09-02T22:39:53.720249Z",
     "shell.execute_reply": "2023-09-02T22:39:53.719303Z"
    },
    "papermill": {
     "duration": 0.021795,
     "end_time": "2023-09-02T22:39:53.722518",
     "exception": false,
     "start_time": "2023-09-02T22:39:53.700723",
     "status": "completed"
    },
    "tags": []
   },
   "outputs": [],
   "source": [
    "from sklearn.metrics import classification_report"
   ]
  },
  {
   "cell_type": "code",
   "execution_count": 27,
   "id": "f3e40ef7",
   "metadata": {
    "execution": {
     "iopub.execute_input": "2023-09-02T22:39:53.750926Z",
     "iopub.status.busy": "2023-09-02T22:39:53.750547Z",
     "iopub.status.idle": "2023-09-02T22:39:54.205568Z",
     "shell.execute_reply": "2023-09-02T22:39:54.204140Z"
    },
    "papermill": {
     "duration": 0.472021,
     "end_time": "2023-09-02T22:39:54.207671",
     "exception": false,
     "start_time": "2023-09-02T22:39:53.735650",
     "status": "completed"
    },
    "tags": []
   },
   "outputs": [
    {
     "name": "stdout",
     "output_type": "stream",
     "text": [
      "              precision    recall  f1-score   support\n",
      "\n",
      "           0       0.69      0.55      0.61      6974\n",
      "           1       0.94      0.97      0.96     54626\n",
      "           2       1.00      1.00      1.00    312056\n",
      "\n",
      "    accuracy                           0.99    373656\n",
      "   macro avg       0.88      0.84      0.86    373656\n",
      "weighted avg       0.99      0.99      0.99    373656\n",
      "\n"
     ]
    }
   ],
   "source": [
    "# the precision, recall, f1_score for behaviour norm labels and predictions\n",
    "\n",
    "behaviour_norm_cr = classification_report(behav_label, behav_predict)\n",
    "print(behaviour_norm_cr)"
   ]
  },
  {
   "cell_type": "code",
   "execution_count": 28,
   "id": "db62e3bf",
   "metadata": {
    "execution": {
     "iopub.execute_input": "2023-09-02T22:39:54.236756Z",
     "iopub.status.busy": "2023-09-02T22:39:54.235561Z",
     "iopub.status.idle": "2023-09-02T22:39:54.766871Z",
     "shell.execute_reply": "2023-09-02T22:39:54.765151Z"
    },
    "papermill": {
     "duration": 0.548048,
     "end_time": "2023-09-02T22:39:54.769164",
     "exception": false,
     "start_time": "2023-09-02T22:39:54.221116",
     "status": "completed"
    },
    "tags": []
   },
   "outputs": [
    {
     "name": "stdout",
     "output_type": "stream",
     "text": [
      "              precision    recall  f1-score   support\n",
      "\n",
      "           0       0.71      0.74      0.72     64448\n",
      "           1       0.85      0.80      0.82    106760\n",
      "           2       0.92      0.95      0.94    202448\n",
      "\n",
      "    accuracy                           0.87    373656\n",
      "   macro avg       0.83      0.83      0.83    373656\n",
      "weighted avg       0.87      0.87      0.87    373656\n",
      "\n"
     ]
    }
   ],
   "source": [
    "# the precision, recall, f1_score for action norm labels and predictions\n",
    "\n",
    "\n",
    "action_norm_cr = classification_report(action_norm_label, action_norm_predict)\n",
    "print(action_norm_cr)"
   ]
  },
  {
   "cell_type": "code",
   "execution_count": 29,
   "id": "3b90ebd4",
   "metadata": {
    "execution": {
     "iopub.execute_input": "2023-09-02T22:39:54.797767Z",
     "iopub.status.busy": "2023-09-02T22:39:54.797368Z",
     "iopub.status.idle": "2023-09-02T22:39:55.510178Z",
     "shell.execute_reply": "2023-09-02T22:39:55.509269Z"
    },
    "papermill": {
     "duration": 0.729734,
     "end_time": "2023-09-02T22:39:55.512198",
     "exception": false,
     "start_time": "2023-09-02T22:39:54.782464",
     "status": "completed"
    },
    "tags": []
   },
   "outputs": [
    {
     "name": "stdout",
     "output_type": "stream",
     "text": [
      "              precision    recall  f1-score   support\n",
      "\n",
      "           0       0.73      0.76      0.74     70827\n",
      "           1       0.73      0.71      0.72     76929\n",
      "           2       0.81      0.90      0.85     25364\n",
      "           3       0.93      0.94      0.94     29328\n",
      "           4       0.60      0.67      0.63     33099\n",
      "           5       0.63      0.60      0.61     31349\n",
      "           6       0.92      0.89      0.91     22863\n",
      "           7       0.88      0.88      0.88     25726\n",
      "           8       0.78      0.73      0.75     31427\n",
      "           9       0.69      0.57      0.62     18161\n",
      "          10       0.60      0.57      0.58      8583\n",
      "\n",
      "    accuracy                           0.75    373656\n",
      "   macro avg       0.75      0.75      0.75    373656\n",
      "weighted avg       0.75      0.75      0.75    373656\n",
      "\n"
     ]
    }
   ],
   "source": [
    "# the precision, recall, f1_score for action labels and predictions\n",
    "\n",
    "action_cr = classification_report(action_label, action_predict)\n",
    "print(action_cr)"
   ]
  },
  {
   "cell_type": "code",
   "execution_count": 30,
   "id": "d45b1063",
   "metadata": {
    "execution": {
     "iopub.execute_input": "2023-09-02T22:39:55.540491Z",
     "iopub.status.busy": "2023-09-02T22:39:55.539322Z",
     "iopub.status.idle": "2023-09-02T22:39:55.925738Z",
     "shell.execute_reply": "2023-09-02T22:39:55.924553Z"
    },
    "papermill": {
     "duration": 0.403398,
     "end_time": "2023-09-02T22:39:55.928564",
     "exception": false,
     "start_time": "2023-09-02T22:39:55.525166",
     "status": "completed"
    },
    "tags": []
   },
   "outputs": [
    {
     "name": "stdout",
     "output_type": "stream",
     "text": [
      "              precision    recall  f1-score   support\n",
      "\n",
      "           0       1.00      1.00      1.00      7232\n",
      "           1       1.00      1.00      1.00      7768\n",
      "           2       1.00      1.00      1.00    358656\n",
      "\n",
      "    accuracy                           1.00    373656\n",
      "   macro avg       1.00      1.00      1.00    373656\n",
      "weighted avg       1.00      1.00      1.00    373656\n",
      "\n"
     ]
    }
   ],
   "source": [
    "# the precision, recall, f1_score for state norm labels and predictions\n",
    "\n",
    "state_norm_cr = classification_report(state_norm_label, state_norm_predict)\n",
    "print(state_norm_cr)"
   ]
  },
  {
   "cell_type": "code",
   "execution_count": 31,
   "id": "b55fe1b2",
   "metadata": {
    "execution": {
     "iopub.execute_input": "2023-09-02T22:39:55.955634Z",
     "iopub.status.busy": "2023-09-02T22:39:55.955273Z",
     "iopub.status.idle": "2023-09-02T22:39:56.278773Z",
     "shell.execute_reply": "2023-09-02T22:39:56.277846Z"
    },
    "papermill": {
     "duration": 0.338915,
     "end_time": "2023-09-02T22:39:56.280561",
     "exception": false,
     "start_time": "2023-09-02T22:39:55.941646",
     "status": "completed"
    },
    "tags": []
   },
   "outputs": [
    {
     "data": {
      "image/png": "[encoded data removed]",
      "text/plain": [
       "<Figure size 640x480 with 1 Axes>"
      ]
     },
     "metadata": {},
     "output_type": "display_data"
    }
   ],
   "source": [
    "import matplotlib.pyplot as plt\n",
    "\n",
    "# plot of Train and Test Accuracy for Action Predictions across epochs\n",
    "\n",
    "epochs = range(1, 21)\n",
    "# plt.title('Train and Test Accuracy for Action Predictions')\n",
    "plt.plot(epochs, train_action_accuracy, label = 'train_accuracy')\n",
    "plt.plot(epochs, test_action_accuracy, label = 'test_accuracy')\n",
    "plt.xlabel('Epochs')\n",
    "plt.ylabel('Accuracy')\n",
    "plt.legend()\n",
    "plt.savefig('action_accuracy')"
   ]
  },
  {
   "cell_type": "code",
   "execution_count": 32,
   "id": "20fabb5e",
   "metadata": {
    "execution": {
     "iopub.execute_input": "2023-09-02T22:39:56.308229Z",
     "iopub.status.busy": "2023-09-02T22:39:56.307722Z",
     "iopub.status.idle": "2023-09-02T22:39:56.578141Z",
     "shell.execute_reply": "2023-09-02T22:39:56.576798Z"
    },
    "papermill": {
     "duration": 0.286896,
     "end_time": "2023-09-02T22:39:56.580593",
     "exception": false,
     "start_time": "2023-09-02T22:39:56.293697",
     "status": "completed"
    },
    "tags": []
   },
   "outputs": [
    {
     "data": {
      "image/png": "[encoded data removed]",
      "text/plain": [
       "<Figure size 640x480 with 1 Axes>"
      ]
     },
     "metadata": {},
     "output_type": "display_data"
    }
   ],
   "source": [
    "# plot of Train and Test Accuracy for behaviour norm Predictions across epochs\n",
    "\n",
    "\n",
    "epochs = range(1, 21)\n",
    "# plt.title('Train and Test Accuracy for Behaviour Norm Predictions')\n",
    "plt.plot(epochs, train_behav_norm_accuracy, label = 'train_behaviour_norm_accuracy')\n",
    "plt.plot(epochs, test_behav_norm_accuracy, label = 'test_behaviour_norm_accuracy')\n",
    "plt.xlabel('Epochs')\n",
    "plt.ylabel('Accuracy')\n",
    "plt.legend()\n",
    "plt.savefig('behaviour_accuracy')"
   ]
  },
  {
   "cell_type": "code",
   "execution_count": 33,
   "id": "c814627f",
   "metadata": {
    "execution": {
     "iopub.execute_input": "2023-09-02T22:39:56.613276Z",
     "iopub.status.busy": "2023-09-02T22:39:56.611022Z",
     "iopub.status.idle": "2023-09-02T22:39:56.922854Z",
     "shell.execute_reply": "2023-09-02T22:39:56.921656Z"
    },
    "papermill": {
     "duration": 0.330053,
     "end_time": "2023-09-02T22:39:56.924920",
     "exception": false,
     "start_time": "2023-09-02T22:39:56.594867",
     "status": "completed"
    },
    "tags": []
   },
   "outputs": [
    {
     "data": {
      "image/png": "[encoded data removed]",
      "text/plain": [
       "<Figure size 640x480 with 1 Axes>"
      ]
     },
     "metadata": {},
     "output_type": "display_data"
    }
   ],
   "source": [
    "# plot of Train and Test Accuracy for Action norm Predictions across epochs\n",
    "\n",
    "epochs = range(1, 21)\n",
    "# plt.title('Train and Test Accuracy for Action Norm Predictions')\n",
    "plt.plot(epochs, train_action_norm_accuracy, label = 'train_action_norm_accuracy')\n",
    "plt.plot(epochs, test_action_norm_accuracy, label = 'test_action_norm_accuracy')\n",
    "plt.xlabel('Epochs')\n",
    "plt.ylabel('Accuracy')\n",
    "plt.legend()\n",
    "plt.savefig('action_norm_accuracy')"
   ]
  },
  {
   "cell_type": "code",
   "execution_count": 34,
   "id": "0961c20d",
   "metadata": {
    "execution": {
     "iopub.execute_input": "2023-09-02T22:39:56.960650Z",
     "iopub.status.busy": "2023-09-02T22:39:56.959673Z",
     "iopub.status.idle": "2023-09-02T22:39:57.252093Z",
     "shell.execute_reply": "2023-09-02T22:39:57.251040Z"
    },
    "papermill": {
     "duration": 0.312143,
     "end_time": "2023-09-02T22:39:57.254379",
     "exception": false,
     "start_time": "2023-09-02T22:39:56.942236",
     "status": "completed"
    },
    "tags": []
   },
   "outputs": [
    {
     "data": {
      "image/png": "[encoded data removed]",
      "text/plain": [
       "<Figure size 640x480 with 1 Axes>"
      ]
     },
     "metadata": {},
     "output_type": "display_data"
    }
   ],
   "source": [
    "# plot of Train and Test Accuracy for state norm Predictions across epochs\n",
    "\n",
    "epochs = range(1, 21)\n",
    "# plt.title('Train and Test Accuracy for State Norm Predictions')\n",
    "plt.plot(epochs, train_state_norm_accuracy, label = 'train_state_norm_accuracy')\n",
    "plt.plot(epochs, test_state_norm_accuracy, label = 'test_state_norm_accuracy')\n",
    "plt.xlabel('Epochs')\n",
    "plt.ylabel('Accuracy')\n",
    "plt.legend()\n",
    "plt.savefig('state_norm_accuracy')"
   ]
  },
  {
   "cell_type": "code",
   "execution_count": 35,
   "id": "c1d57e22",
   "metadata": {
    "execution": {
     "iopub.execute_input": "2023-09-02T22:39:57.290537Z",
     "iopub.status.busy": "2023-09-02T22:39:57.290202Z",
     "iopub.status.idle": "2023-09-02T22:39:57.624902Z",
     "shell.execute_reply": "2023-09-02T22:39:57.623690Z"
    },
    "papermill": {
     "duration": 0.3542,
     "end_time": "2023-09-02T22:39:57.626899",
     "exception": false,
     "start_time": "2023-09-02T22:39:57.272699",
     "status": "completed"
    },
    "tags": []
   },
   "outputs": [
    {
     "data": {
      "image/png": "[encoded data removed]",
      "text/plain": [
       "<Figure size 640x480 with 1 Axes>"
      ]
     },
     "metadata": {},
     "output_type": "display_data"
    }
   ],
   "source": [
    "# final plot for train accuracies\n",
    "\n",
    "epochs = range(1, 21)\n",
    "# plt.title('Train Accuracies for Predictions')\n",
    "plt.plot(epochs, train_action_accuracy, label = 'train_action_accuracy')\n",
    "plt.plot(epochs, train_behav_norm_accuracy, label = 'train_behaviour_norm_accuracy')\n",
    "plt.plot(epochs, train_action_norm_accuracy, label = 'train_action_norm_accuracy')\n",
    "plt.plot(epochs, train_state_norm_accuracy, label = 'train_state_norm_accuracy')\n",
    "plt.xlabel('Epochs')\n",
    "plt.ylabel('Accuracy')\n",
    "plt.legend()\n",
    "plt.savefig('train_accuracy')"
   ]
  },
  {
   "cell_type": "code",
   "execution_count": 36,
   "id": "e8627893",
   "metadata": {
    "execution": {
     "iopub.execute_input": "2023-09-02T22:39:57.658935Z",
     "iopub.status.busy": "2023-09-02T22:39:57.658537Z",
     "iopub.status.idle": "2023-09-02T22:39:57.963239Z",
     "shell.execute_reply": "2023-09-02T22:39:57.962060Z"
    },
    "papermill": {
     "duration": 0.323209,
     "end_time": "2023-09-02T22:39:57.965346",
     "exception": false,
     "start_time": "2023-09-02T22:39:57.642137",
     "status": "completed"
    },
    "tags": []
   },
   "outputs": [
    {
     "data": {
      "image/png": "[encoded data removed]",
      "text/plain": [
       "<Figure size 640x480 with 1 Axes>"
      ]
     },
     "metadata": {},
     "output_type": "display_data"
    }
   ],
   "source": [
    "# final plot for test accuracies\n",
    "\n",
    "epochs = range(1, 21)\n",
    "# plt.title('Test Accuracies for Predictions')\n",
    "plt.plot(epochs, test_action_accuracy, label = 'test_action_accuracy')\n",
    "plt.plot(epochs, test_behav_norm_accuracy, label = 'test_behaviour_norm_accuracy')\n",
    "plt.plot(epochs, test_action_norm_accuracy, label = 'test_action_norm_accuracy')\n",
    "plt.plot(epochs, test_state_norm_accuracy, label = 'test_state_norm_accuracy')\n",
    "plt.xlabel('Epochs')\n",
    "plt.ylabel('Accuracy')\n",
    "plt.legend(loc = 'center right', framealpha = 0.3)\n",
    "plt.savefig('test_accuracy')"
   ]
  },
  {
   "cell_type": "code",
   "execution_count": 38,
   "id": "543ae078",
   "metadata": {
    "execution": {
     "iopub.execute_input": "2023-09-02T22:39:58.038916Z",
     "iopub.status.busy": "2023-09-02T22:39:58.038493Z",
     "iopub.status.idle": "2023-09-02T22:39:58.046797Z",
     "shell.execute_reply": "2023-09-02T22:39:58.045807Z"
    },
    "papermill": {
     "duration": 0.027129,
     "end_time": "2023-09-02T22:39:58.048758",
     "exception": false,
     "start_time": "2023-09-02T22:39:58.021629",
     "status": "completed"
    },
    "tags": []
   },
   "outputs": [],
   "source": [
    "PATH = './norm_learning_model.pth'  \n",
    "torch.save(model.state_dict(), PATH)  # save model"
   ]
  },
  {
   "cell_type": "code",
   "execution_count": null,
   "id": "46ab9d0c",
   "metadata": {
    "papermill": {
     "duration": 0.015052,
     "end_time": "2023-09-02T22:39:58.079241",
     "exception": false,
     "start_time": "2023-09-02T22:39:58.064189",
     "status": "completed"
    },
    "tags": []
   },
   "outputs": [],
   "source": []
  },
  {
   "cell_type": "code",
   "execution_count": null,
   "id": "3caffe2d",
   "metadata": {
    "papermill": {
     "duration": 0.0152,
     "end_time": "2023-09-02T22:39:58.109682",
     "exception": false,
     "start_time": "2023-09-02T22:39:58.094482",
     "status": "completed"
    },
    "tags": []
   },
   "outputs": [],
   "source": []
  },
  {
   "cell_type": "code",
   "execution_count": null,
   "id": "18bc0c51",
   "metadata": {
    "papermill": {
     "duration": 0.015423,
     "end_time": "2023-09-02T22:39:58.140524",
     "exception": false,
     "start_time": "2023-09-02T22:39:58.125101",
     "status": "completed"
    },
    "tags": []
   },
   "outputs": [],
   "source": []
  }
 ],
 "metadata": {
  "kernelspec": {
   "display_name": "Python 3 (ipykernel)",
   "language": "python",
   "name": "python3"
  },
  "language_info": {
   "codemirror_mode": {
    "name": "ipython",
    "version": 3
   },
   "file_extension": ".py",
   "mimetype": "text/x-python",
   "name": "python",
   "nbconvert_exporter": "python",
   "pygments_lexer": "ipython3",
   "version": "3.8.17"
  },
  "papermill": {
   "default_parameters": {},
   "duration": 1730.884198,
   "end_time": "2023-09-02T22:40:00.587045",
   "environment_variables": {},
   "exception": null,
   "input_path": "__notebook__.ipynb",
   "output_path": "__notebook__.ipynb",
   "parameters": {},
   "start_time": "2023-09-02T22:11:09.702847",
   "version": "2.4.0"
  }
 },
 "nbformat": 4,
 "nbformat_minor": 5
}
