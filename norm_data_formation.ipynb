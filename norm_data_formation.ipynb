{
 "cells": [
  {
   "cell_type": "code",
   "execution_count": 1,
   "id": "4de33a32",
   "metadata": {},
   "outputs": [
    {
     "name": "stderr",
     "output_type": "stream",
     "text": [
      "C:\\Users\\pooja\\anaconda3\\lib\\site-packages\\numpy\\_distributor_init.py:30: UserWarning: loaded more than 1 DLL from .libs:\n",
      "C:\\Users\\pooja\\anaconda3\\lib\\site-packages\\numpy\\.libs\\libopenblas.FB5AE2TYXYH2IJRDKGDGQ3XBKLKTF43H.gfortran-win_amd64.dll\n",
      "C:\\Users\\pooja\\anaconda3\\lib\\site-packages\\numpy\\.libs\\libopenblas64__v0.3.21-gcc_10_3_0.dll\n",
      "  warnings.warn(\"loaded more than 1 DLL from .libs:\"\n"
     ]
    }
   ],
   "source": [
    "import pickle\n",
    "\n",
    "# load in data\n",
    "with (open('dataset.pkl', \"rb\")) as openfile:\n",
    "     df_file2 = pickle.load(openfile)"
   ]
  },
  {
   "cell_type": "code",
   "execution_count": 2,
   "id": "6e3b3e09",
   "metadata": {},
   "outputs": [
    {
     "data": {
      "text/html": [
       "<div>\n",
       "<style scoped>\n",
       "    .dataframe tbody tr th:only-of-type {\n",
       "        vertical-align: middle;\n",
       "    }\n",
       "\n",
       "    .dataframe tbody tr th {\n",
       "        vertical-align: top;\n",
       "    }\n",
       "\n",
       "    .dataframe thead th {\n",
       "        text-align: right;\n",
       "    }\n",
       "</style>\n",
       "<table border=\"1\" class=\"dataframe\">\n",
       "  <thead>\n",
       "    <tr style=\"text-align: right;\">\n",
       "      <th></th>\n",
       "      <th>0</th>\n",
       "      <th>1</th>\n",
       "      <th>2</th>\n",
       "      <th>3</th>\n",
       "      <th>4</th>\n",
       "      <th>5</th>\n",
       "    </tr>\n",
       "  </thead>\n",
       "  <tbody>\n",
       "    <tr>\n",
       "      <th>0</th>\n",
       "      <td>player_0</td>\n",
       "      <td>0</td>\n",
       "      <td>[0.0, 0.0, 0.0, 1.0, 0.0, 0.0, 0.0, 0.0, 0.0, ...</td>\n",
       "      <td>0</td>\n",
       "      <td>[0, 0, 1, 1, 1, 0, 0, 0, 0, 1, 0]</td>\n",
       "      <td>9</td>\n",
       "    </tr>\n",
       "    <tr>\n",
       "      <th>1</th>\n",
       "      <td>player_1</td>\n",
       "      <td>1</td>\n",
       "      <td>[0.0, 0.0, 1.0, 0.0, 0.0, 0.0, 0.0, 0.0, 0.0, ...</td>\n",
       "      <td>0</td>\n",
       "      <td>[1, 1, 1, 1, 1, 1, 0, 1, 1, 0, 0]</td>\n",
       "      <td>1</td>\n",
       "    </tr>\n",
       "    <tr>\n",
       "      <th>2</th>\n",
       "      <td>player_0</td>\n",
       "      <td>2</td>\n",
       "      <td>[0.0, 0.0, 0.0, 1.0, 0.0, 0.0, 0.0, 0.0, 0.0, ...</td>\n",
       "      <td>0</td>\n",
       "      <td>[0, 0, 1, 1, 1, 0, 0, 1, 0, 1, 0]</td>\n",
       "      <td>7</td>\n",
       "    </tr>\n",
       "    <tr>\n",
       "      <th>3</th>\n",
       "      <td>player_1</td>\n",
       "      <td>3</td>\n",
       "      <td>[0.0, 0.0, 1.0, 0.0, 0.0, 0.0, 0.0, 0.0, 0.0, ...</td>\n",
       "      <td>0</td>\n",
       "      <td>[1, 1, 1, 1, 1, 1, 0, 1, 1, 0, 0]</td>\n",
       "      <td>0</td>\n",
       "    </tr>\n",
       "    <tr>\n",
       "      <th>4</th>\n",
       "      <td>player_0</td>\n",
       "      <td>4</td>\n",
       "      <td>[0.0, 1.0, 0.0, 0.0, 0.0, 0.0, 0.0, 0.0, 0.0, ...</td>\n",
       "      <td>0</td>\n",
       "      <td>[0, 0, 1, 1, 1, 0, 1, 1, 0, 0, 0]</td>\n",
       "      <td>6</td>\n",
       "    </tr>\n",
       "  </tbody>\n",
       "</table>\n",
       "</div>"
      ],
      "text/plain": [
       "          0  1                                                  2  3  \\\n",
       "0  player_0  0  [0.0, 0.0, 0.0, 1.0, 0.0, 0.0, 0.0, 0.0, 0.0, ...  0   \n",
       "1  player_1  1  [0.0, 0.0, 1.0, 0.0, 0.0, 0.0, 0.0, 0.0, 0.0, ...  0   \n",
       "2  player_0  2  [0.0, 0.0, 0.0, 1.0, 0.0, 0.0, 0.0, 0.0, 0.0, ...  0   \n",
       "3  player_1  3  [0.0, 0.0, 1.0, 0.0, 0.0, 0.0, 0.0, 0.0, 0.0, ...  0   \n",
       "4  player_0  4  [0.0, 1.0, 0.0, 0.0, 0.0, 0.0, 0.0, 0.0, 0.0, ...  0   \n",
       "\n",
       "                                   4  5  \n",
       "0  [0, 0, 1, 1, 1, 0, 0, 0, 0, 1, 0]  9  \n",
       "1  [1, 1, 1, 1, 1, 1, 0, 1, 1, 0, 0]  1  \n",
       "2  [0, 0, 1, 1, 1, 0, 0, 1, 0, 1, 0]  7  \n",
       "3  [1, 1, 1, 1, 1, 1, 0, 1, 1, 0, 0]  0  \n",
       "4  [0, 0, 1, 1, 1, 0, 1, 1, 0, 0, 0]  6  "
      ]
     },
     "execution_count": 2,
     "metadata": {},
     "output_type": "execute_result"
    }
   ],
   "source": [
    "df_file2.head() # view data"
   ]
  },
  {
   "cell_type": "code",
   "execution_count": 3,
   "id": "98c04cb5",
   "metadata": {},
   "outputs": [],
   "source": [
    "df_file2.columns = ['player_id', 'game_turn', 'observation', 'reward', 'action_mask', 'action'] # set column names of data"
   ]
  },
  {
   "cell_type": "code",
   "execution_count": 4,
   "id": "07059370",
   "metadata": {},
   "outputs": [],
   "source": [
    "# imports\n",
    "\n",
    "import pandas as pd\n",
    "pd.options.display.max_seq_items = 2000\n",
    "import numpy as np"
   ]
  },
  {
   "cell_type": "code",
   "execution_count": 5,
   "id": "44fb10ee",
   "metadata": {},
   "outputs": [],
   "source": [
    "# decode first card colour from observation vector\n",
    "\n",
    "def define_player_card(row):\n",
    "#     obs = row['observation']\n",
    "#     idx_pos = np.nonzero(obs[:10])\n",
    "#     if idx_pos in [0,1,2,3,4]:\n",
    "#         return 1\n",
    "#     else: return 0\n",
    "    \n",
    "    obs = row['observation']\n",
    "    if len(np.unique(obs[:10])) > 1:\n",
    "        idx_pos = int(np.where(obs[:10])[0]) \n",
    "        if idx_pos in [0,1,2,3,4]: return 1\n",
    "        else: return 0\n",
    "    else : return -1 \n",
    "\n",
    "df_file2[\"card0_colour\"] = df_file2.apply(define_player_card, axis=1)"
   ]
  },
  {
   "cell_type": "code",
   "execution_count": 6,
   "id": "2dc178cf",
   "metadata": {},
   "outputs": [],
   "source": [
    "# decode first card rank from observation vector\n",
    "\n",
    "def define_player_card_rank(row):\n",
    "    obs = row['observation']\n",
    "    idx_pos = np.where(obs[:10])[0]\n",
    "    if idx_pos in range(5,10):\n",
    "        idx_pos =  np.where(obs[5:10])[0]\n",
    "    return int(idx_pos[0]) + 1 \n",
    "\n",
    "df_file2[\"card0_rank\"] = df_file2.apply(define_player_card_rank, axis=1)"
   ]
  },
  {
   "cell_type": "code",
   "execution_count": 7,
   "id": "76988973",
   "metadata": {},
   "outputs": [],
   "source": [
    "# decode second card colour from observation vector\n",
    "\n",
    "def define_player_card1_colour(row):\n",
    "    obs = row['observation']\n",
    "    if len(np.unique(obs[10:20])) > 1:\n",
    "        idx_pos = int(np.where(obs[10:20])[0]) \n",
    "#         print(idx_pos)\n",
    "        if idx_pos in [0,1,2,3,4]: return 1\n",
    "        else: return 0\n",
    "    else : return -1 \n",
    "\n",
    "df_file2[\"card1_colour\"] = df_file2.apply(define_player_card1_colour, axis=1)"
   ]
  },
  {
   "cell_type": "code",
   "execution_count": 8,
   "id": "0cadc82e",
   "metadata": {},
   "outputs": [],
   "source": [
    "# decode second card rank from observation vector\n",
    "\n",
    "def define_player_card1_rank(row):\n",
    "    obs = row['observation']\n",
    "    if len(np.unique(obs[10:20])) > 1:\n",
    "        idx_pos = np.where(obs[10:20])[0]\n",
    "        if int(idx_pos[0]) in range(5,10):\n",
    "            idx_pos =  np.where(obs[15:20])[0]\n",
    "        return int(idx_pos[0]) + 1 \n",
    "    else : return -1\n",
    "\n",
    "df_file2[\"card1_rank\"] = df_file2.apply(define_player_card1_rank, axis=1)"
   ]
  },
  {
   "cell_type": "code",
   "execution_count": 9,
   "id": "d6bab34b",
   "metadata": {},
   "outputs": [],
   "source": [
    "# decode red fireworks formed from observation vector\n",
    "\n",
    "def define_firework_red(row):\n",
    "    obs = row['observation']\n",
    "    if len(np.unique(obs[38:43])) > 1:\n",
    "        idx_pos = int(np.where(obs[38:43])[0]) \n",
    "        return idx_pos + 1\n",
    "    else : return 0 \n",
    "\n",
    "df_file2[\"red_firework\"] = df_file2.apply(define_firework_red, axis=1)    "
   ]
  },
  {
   "cell_type": "code",
   "execution_count": 10,
   "id": "4c6f3157",
   "metadata": {},
   "outputs": [],
   "source": [
    "# decode yellow fireworks formed from observation vector\n",
    "\n",
    "def define_firework_yellow(row):\n",
    "    obs = row['observation']\n",
    "    if len(np.unique(obs[43:48])) > 1:\n",
    "        idx_pos = int(np.where(obs[43:48])[0]) \n",
    "        return idx_pos + 1\n",
    "    else : return 0 \n",
    "\n",
    "df_file2[\"yel_firework\"] = df_file2.apply(define_firework_yellow, axis=1)   "
   ]
  },
  {
   "cell_type": "code",
   "execution_count": 11,
   "id": "8ca3975c",
   "metadata": {},
   "outputs": [],
   "source": [
    "# decode number of information tokens left from observation vector\n",
    "\n",
    "def define_info_token(row):\n",
    "    obs = row['observation'][48:51]\n",
    "    if (obs == [1,1,1]).all(): return 3\n",
    "    elif (obs == [0,0,0]).all(): return 0\n",
    "    elif (obs == [1,1,0]).all(): return 2\n",
    "    else: return 1\n",
    "\n",
    "df_file2[\"info_tokens\"] = df_file2.apply(define_info_token, axis=1)"
   ]
  },
  {
   "cell_type": "code",
   "execution_count": 12,
   "id": "732c8532",
   "metadata": {},
   "outputs": [
    {
     "data": {
      "text/html": [
       "<div>\n",
       "<style scoped>\n",
       "    .dataframe tbody tr th:only-of-type {\n",
       "        vertical-align: middle;\n",
       "    }\n",
       "\n",
       "    .dataframe tbody tr th {\n",
       "        vertical-align: top;\n",
       "    }\n",
       "\n",
       "    .dataframe thead th {\n",
       "        text-align: right;\n",
       "    }\n",
       "</style>\n",
       "<table border=\"1\" class=\"dataframe\">\n",
       "  <thead>\n",
       "    <tr style=\"text-align: right;\">\n",
       "      <th></th>\n",
       "      <th>player_id</th>\n",
       "      <th>game_turn</th>\n",
       "      <th>observation</th>\n",
       "      <th>reward</th>\n",
       "      <th>action_mask</th>\n",
       "      <th>action</th>\n",
       "      <th>card0_colour</th>\n",
       "      <th>card0_rank</th>\n",
       "      <th>card1_colour</th>\n",
       "      <th>card1_rank</th>\n",
       "      <th>red_firework</th>\n",
       "      <th>yel_firework</th>\n",
       "      <th>info_tokens</th>\n",
       "    </tr>\n",
       "  </thead>\n",
       "  <tbody>\n",
       "    <tr>\n",
       "      <th>0</th>\n",
       "      <td>player_0</td>\n",
       "      <td>0</td>\n",
       "      <td>[0.0, 0.0, 0.0, 1.0, 0.0, 0.0, 0.0, 0.0, 0.0, ...</td>\n",
       "      <td>0</td>\n",
       "      <td>[0, 0, 1, 1, 1, 0, 0, 0, 0, 1, 0]</td>\n",
       "      <td>9</td>\n",
       "      <td>1</td>\n",
       "      <td>4</td>\n",
       "      <td>1</td>\n",
       "      <td>4</td>\n",
       "      <td>0</td>\n",
       "      <td>0</td>\n",
       "      <td>3</td>\n",
       "    </tr>\n",
       "    <tr>\n",
       "      <th>1</th>\n",
       "      <td>player_1</td>\n",
       "      <td>1</td>\n",
       "      <td>[0.0, 0.0, 1.0, 0.0, 0.0, 0.0, 0.0, 0.0, 0.0, ...</td>\n",
       "      <td>0</td>\n",
       "      <td>[1, 1, 1, 1, 1, 1, 0, 1, 1, 0, 0]</td>\n",
       "      <td>1</td>\n",
       "      <td>1</td>\n",
       "      <td>3</td>\n",
       "      <td>0</td>\n",
       "      <td>2</td>\n",
       "      <td>0</td>\n",
       "      <td>0</td>\n",
       "      <td>2</td>\n",
       "    </tr>\n",
       "    <tr>\n",
       "      <th>2</th>\n",
       "      <td>player_0</td>\n",
       "      <td>2</td>\n",
       "      <td>[0.0, 0.0, 0.0, 1.0, 0.0, 0.0, 0.0, 0.0, 0.0, ...</td>\n",
       "      <td>0</td>\n",
       "      <td>[0, 0, 1, 1, 1, 0, 0, 1, 0, 1, 0]</td>\n",
       "      <td>7</td>\n",
       "      <td>1</td>\n",
       "      <td>4</td>\n",
       "      <td>1</td>\n",
       "      <td>2</td>\n",
       "      <td>0</td>\n",
       "      <td>0</td>\n",
       "      <td>3</td>\n",
       "    </tr>\n",
       "    <tr>\n",
       "      <th>3</th>\n",
       "      <td>player_1</td>\n",
       "      <td>3</td>\n",
       "      <td>[0.0, 0.0, 1.0, 0.0, 0.0, 0.0, 0.0, 0.0, 0.0, ...</td>\n",
       "      <td>0</td>\n",
       "      <td>[1, 1, 1, 1, 1, 1, 0, 1, 1, 0, 0]</td>\n",
       "      <td>0</td>\n",
       "      <td>1</td>\n",
       "      <td>3</td>\n",
       "      <td>0</td>\n",
       "      <td>2</td>\n",
       "      <td>0</td>\n",
       "      <td>0</td>\n",
       "      <td>2</td>\n",
       "    </tr>\n",
       "    <tr>\n",
       "      <th>4</th>\n",
       "      <td>player_0</td>\n",
       "      <td>4</td>\n",
       "      <td>[0.0, 1.0, 0.0, 0.0, 0.0, 0.0, 0.0, 0.0, 0.0, ...</td>\n",
       "      <td>0</td>\n",
       "      <td>[0, 0, 1, 1, 1, 0, 1, 1, 0, 0, 0]</td>\n",
       "      <td>6</td>\n",
       "      <td>1</td>\n",
       "      <td>2</td>\n",
       "      <td>1</td>\n",
       "      <td>1</td>\n",
       "      <td>0</td>\n",
       "      <td>0</td>\n",
       "      <td>3</td>\n",
       "    </tr>\n",
       "  </tbody>\n",
       "</table>\n",
       "</div>"
      ],
      "text/plain": [
       "  player_id game_turn                                        observation  \\\n",
       "0  player_0         0  [0.0, 0.0, 0.0, 1.0, 0.0, 0.0, 0.0, 0.0, 0.0, ...   \n",
       "1  player_1         1  [0.0, 0.0, 1.0, 0.0, 0.0, 0.0, 0.0, 0.0, 0.0, ...   \n",
       "2  player_0         2  [0.0, 0.0, 0.0, 1.0, 0.0, 0.0, 0.0, 0.0, 0.0, ...   \n",
       "3  player_1         3  [0.0, 0.0, 1.0, 0.0, 0.0, 0.0, 0.0, 0.0, 0.0, ...   \n",
       "4  player_0         4  [0.0, 1.0, 0.0, 0.0, 0.0, 0.0, 0.0, 0.0, 0.0, ...   \n",
       "\n",
       "  reward                        action_mask action  card0_colour  card0_rank  \\\n",
       "0      0  [0, 0, 1, 1, 1, 0, 0, 0, 0, 1, 0]      9             1           4   \n",
       "1      0  [1, 1, 1, 1, 1, 1, 0, 1, 1, 0, 0]      1             1           3   \n",
       "2      0  [0, 0, 1, 1, 1, 0, 0, 1, 0, 1, 0]      7             1           4   \n",
       "3      0  [1, 1, 1, 1, 1, 1, 0, 1, 1, 0, 0]      0             1           3   \n",
       "4      0  [0, 0, 1, 1, 1, 0, 1, 1, 0, 0, 0]      6             1           2   \n",
       "\n",
       "   card1_colour  card1_rank  red_firework  yel_firework  info_tokens  \n",
       "0             1           4             0             0            3  \n",
       "1             0           2             0             0            2  \n",
       "2             1           2             0             0            3  \n",
       "3             0           2             0             0            2  \n",
       "4             1           1             0             0            3  "
      ]
     },
     "execution_count": 12,
     "metadata": {},
     "output_type": "execute_result"
    }
   ],
   "source": [
    "df_file2.head() # view data"
   ]
  },
  {
   "cell_type": "code",
   "execution_count": 13,
   "id": "b1fa160a",
   "metadata": {},
   "outputs": [],
   "source": [
    "# define state norm based on game turn == 0, card rank of 1 and action taken\n",
    "\n",
    "def define_state_norm(row):\n",
    "    if row['game_turn'] == 0:\n",
    "        if (row['card0_rank'] == 1 or row['card1_rank'] == 1) and row['action'] == 6: return 1\n",
    "#         elif (row['card0_rank'] == 1 or row['card1_rank'] == 1) and row['action'] != 6: return 0\n",
    "        else : return 0\n",
    "    else: return 2\n",
    "\n",
    "df_file2[\"state_norm\"] = df_file2.apply(define_state_norm, axis=1)"
   ]
  },
  {
   "cell_type": "code",
   "execution_count": 14,
   "id": "5a502a4c",
   "metadata": {},
   "outputs": [
    {
     "data": {
      "text/plain": [
       "2    1582345\n",
       "1      25895\n",
       "0      24105\n",
       "Name: state_norm, dtype: int64"
      ]
     },
     "execution_count": 14,
     "metadata": {},
     "output_type": "execute_result"
    }
   ],
   "source": [
    "df_file2[\"state_norm\"].value_counts() # view distribution of state norm"
   ]
  },
  {
   "cell_type": "code",
   "execution_count": 15,
   "id": "f6699fde",
   "metadata": {},
   "outputs": [],
   "source": [
    "# define action norm based on the actions taken\n",
    "\n",
    "def define_action_norm(row):\n",
    "    if row['action'] in range(6, 11):\n",
    "        return 1\n",
    "    elif row['action'] in range(4, 6): return 0\n",
    "    else: return 2\n",
    "    \n",
    "\n",
    "df_file2[\"action_norm\"] = df_file2.apply(define_action_norm, axis=1)"
   ]
  },
  {
   "cell_type": "code",
   "execution_count": 16,
   "id": "1de77141",
   "metadata": {},
   "outputs": [
    {
     "data": {
      "text/plain": [
       "2    937880\n",
       "1    457507\n",
       "0    236958\n",
       "Name: action_norm, dtype: int64"
      ]
     },
     "execution_count": 16,
     "metadata": {},
     "output_type": "execute_result"
    }
   ],
   "source": [
    "df_file2[\"action_norm\"].value_counts() # view distribution of action norm"
   ]
  },
  {
   "cell_type": "code",
   "execution_count": 17,
   "id": "2763d0dc",
   "metadata": {},
   "outputs": [],
   "source": [
    "df_file2[\"shift_action\"] = df_file2[\"action\"].shift(1, fill_value=-1) # shift the action column down by 1 "
   ]
  },
  {
   "cell_type": "code",
   "execution_count": 18,
   "id": "705720cc",
   "metadata": {},
   "outputs": [],
   "source": [
    "# define behaviour norm based on previous action and the current action\n",
    "\n",
    "def define_behaviour_norm(row):\n",
    "    if row['shift_action'] in range(4,6):\n",
    "        if row['action'] in range(0,2): return 1\n",
    "        else : return 0\n",
    "    else : return 2\n",
    "    \n",
    "\n",
    "df_file2[\"behaviour_norm\"] = df_file2.apply(define_behaviour_norm, axis=1)"
   ]
  },
  {
   "cell_type": "code",
   "execution_count": 19,
   "id": "eab30e9c",
   "metadata": {},
   "outputs": [
    {
     "data": {
      "text/plain": [
       "action_norm  action\n",
       "0            4         121961\n",
       "             5         114997\n",
       "1            7         118290\n",
       "             6         118252\n",
       "             8         111276\n",
       "             9          76128\n",
       "             10         33561\n",
       "2            1         306156\n",
       "             0         283426\n",
       "             3         141748\n",
       "             2         106550\n",
       "Name: action, dtype: int64"
      ]
     },
     "execution_count": 19,
     "metadata": {},
     "output_type": "execute_result"
    }
   ],
   "source": [
    "df_file2.groupby('action_norm')['action'].value_counts() # view distribution of actions grouped by action norm"
   ]
  },
  {
   "cell_type": "code",
   "execution_count": 20,
   "id": "7fa6eadf",
   "metadata": {},
   "outputs": [
    {
     "data": {
      "text/plain": [
       "Index(['player_id', 'game_turn', 'observation', 'reward', 'action_mask',\n",
       "       'action', 'card0_colour', 'card0_rank', 'card1_colour', 'card1_rank',\n",
       "       'red_firework', 'yel_firework', 'info_tokens', 'state_norm',\n",
       "       'action_norm', 'shift_action', 'behaviour_norm'],\n",
       "      dtype='object')"
      ]
     },
     "execution_count": 20,
     "metadata": {},
     "output_type": "execute_result"
    }
   ],
   "source": [
    "df_file2.columns # view columns"
   ]
  },
  {
   "cell_type": "code",
   "execution_count": 21,
   "id": "77e75dec",
   "metadata": {},
   "outputs": [],
   "source": [
    "df_file = df_file2.drop(['player_id', 'game_turn', 'reward', 'action_mask', 'card0_colour', 'card0_rank',\n",
    "                      'card1_colour', 'card1_rank', 'red_firework', 'yel_firework', 'info_tokens', 'shift_action'], axis=1) # drop columns"
   ]
  },
  {
   "cell_type": "code",
   "execution_count": 22,
   "id": "b2ddb692",
   "metadata": {},
   "outputs": [],
   "source": [
    "from sklearn.utils import shuffle\n",
    "\n",
    "df_file = shuffle(df_file) # shuffle data"
   ]
  },
  {
   "cell_type": "code",
   "execution_count": 23,
   "id": "0f4040eb",
   "metadata": {},
   "outputs": [
    {
     "data": {
      "text/html": [
       "<div>\n",
       "<style scoped>\n",
       "    .dataframe tbody tr th:only-of-type {\n",
       "        vertical-align: middle;\n",
       "    }\n",
       "\n",
       "    .dataframe tbody tr th {\n",
       "        vertical-align: top;\n",
       "    }\n",
       "\n",
       "    .dataframe thead th {\n",
       "        text-align: right;\n",
       "    }\n",
       "</style>\n",
       "<table border=\"1\" class=\"dataframe\">\n",
       "  <thead>\n",
       "    <tr style=\"text-align: right;\">\n",
       "      <th></th>\n",
       "      <th>observation</th>\n",
       "      <th>action</th>\n",
       "      <th>state_norm</th>\n",
       "      <th>action_norm</th>\n",
       "      <th>behaviour_norm</th>\n",
       "    </tr>\n",
       "  </thead>\n",
       "  <tbody>\n",
       "    <tr>\n",
       "      <th>887665</th>\n",
       "      <td>[0.0, 0.0, 1.0, 0.0, 0.0, 0.0, 0.0, 0.0, 0.0, ...</td>\n",
       "      <td>0</td>\n",
       "      <td>2</td>\n",
       "      <td>2</td>\n",
       "      <td>2</td>\n",
       "    </tr>\n",
       "    <tr>\n",
       "      <th>283638</th>\n",
       "      <td>[0.0, 0.0, 0.0, 0.0, 1.0, 0.0, 0.0, 0.0, 0.0, ...</td>\n",
       "      <td>3</td>\n",
       "      <td>2</td>\n",
       "      <td>2</td>\n",
       "      <td>2</td>\n",
       "    </tr>\n",
       "    <tr>\n",
       "      <th>437024</th>\n",
       "      <td>[0.0, 1.0, 0.0, 0.0, 0.0, 0.0, 0.0, 0.0, 0.0, ...</td>\n",
       "      <td>4</td>\n",
       "      <td>2</td>\n",
       "      <td>0</td>\n",
       "      <td>2</td>\n",
       "    </tr>\n",
       "    <tr>\n",
       "      <th>730087</th>\n",
       "      <td>[0.0, 0.0, 0.0, 0.0, 0.0, 0.0, 0.0, 1.0, 0.0, ...</td>\n",
       "      <td>8</td>\n",
       "      <td>2</td>\n",
       "      <td>1</td>\n",
       "      <td>2</td>\n",
       "    </tr>\n",
       "    <tr>\n",
       "      <th>381685</th>\n",
       "      <td>[0.0, 0.0, 1.0, 0.0, 0.0, 0.0, 0.0, 0.0, 0.0, ...</td>\n",
       "      <td>0</td>\n",
       "      <td>2</td>\n",
       "      <td>2</td>\n",
       "      <td>1</td>\n",
       "    </tr>\n",
       "  </tbody>\n",
       "</table>\n",
       "</div>"
      ],
      "text/plain": [
       "                                              observation action  state_norm  \\\n",
       "887665  [0.0, 0.0, 1.0, 0.0, 0.0, 0.0, 0.0, 0.0, 0.0, ...      0           2   \n",
       "283638  [0.0, 0.0, 0.0, 0.0, 1.0, 0.0, 0.0, 0.0, 0.0, ...      3           2   \n",
       "437024  [0.0, 1.0, 0.0, 0.0, 0.0, 0.0, 0.0, 0.0, 0.0, ...      4           2   \n",
       "730087  [0.0, 0.0, 0.0, 0.0, 0.0, 0.0, 0.0, 1.0, 0.0, ...      8           2   \n",
       "381685  [0.0, 0.0, 1.0, 0.0, 0.0, 0.0, 0.0, 0.0, 0.0, ...      0           2   \n",
       "\n",
       "        action_norm  behaviour_norm  \n",
       "887665            2               2  \n",
       "283638            2               2  \n",
       "437024            0               2  \n",
       "730087            1               2  \n",
       "381685            2               1  "
      ]
     },
     "execution_count": 23,
     "metadata": {},
     "output_type": "execute_result"
    }
   ],
   "source": [
    "df_file.head() # view data "
   ]
  },
  {
   "cell_type": "code",
   "execution_count": 24,
   "id": "43badc5f",
   "metadata": {},
   "outputs": [
    {
     "data": {
      "text/plain": [
       "(1632345, 5)"
      ]
     },
     "execution_count": 24,
     "metadata": {},
     "output_type": "execute_result"
    }
   ],
   "source": [
    "df_file.shape # view shape of data"
   ]
  },
  {
   "cell_type": "code",
   "execution_count": 25,
   "id": "2f3dcda7",
   "metadata": {},
   "outputs": [],
   "source": [
    "df = df_file # copy"
   ]
  },
  {
   "cell_type": "code",
   "execution_count": 26,
   "id": "0b2945f6",
   "metadata": {},
   "outputs": [],
   "source": [
    "df['observation'] = df['observation'].apply(tuple) # change to tuple to drop duplicates\n",
    "\n",
    "# drop duplicates without keeping any duplicate data\n",
    "d2 = df.drop_duplicates(subset = ['observation', 'action', 'state_norm', 'action_norm', 'behaviour_norm'], keep = False) "
   ]
  },
  {
   "cell_type": "code",
   "execution_count": 27,
   "id": "84eda36d",
   "metadata": {},
   "outputs": [
    {
     "data": {
      "text/plain": [
       "(1271544, 5)"
      ]
     },
     "execution_count": 27,
     "metadata": {},
     "output_type": "execute_result"
    }
   ],
   "source": [
    "d2.shape # view shape of data"
   ]
  },
  {
   "cell_type": "code",
   "execution_count": 28,
   "id": "a54129d5",
   "metadata": {},
   "outputs": [
    {
     "data": {
      "text/plain": [
       "2    750849\n",
       "1    306448\n",
       "0    214247\n",
       "Name: action_norm, dtype: int64"
      ]
     },
     "execution_count": 28,
     "metadata": {},
     "output_type": "execute_result"
    }
   ],
   "source": [
    "d2['action_norm'].value_counts() # view distribution of action norm after removing duplicates"
   ]
  },
  {
   "cell_type": "code",
   "execution_count": 29,
   "id": "f4bc928c",
   "metadata": {},
   "outputs": [
    {
     "data": {
      "text/plain": [
       "2    1271544\n",
       "Name: state_norm, dtype: int64"
      ]
     },
     "execution_count": 29,
     "metadata": {},
     "output_type": "execute_result"
    }
   ],
   "source": [
    "d2['state_norm'].value_counts() # view distribution of state norm after removing duplicates"
   ]
  },
  {
   "cell_type": "code",
   "execution_count": 30,
   "id": "0f484602",
   "metadata": {},
   "outputs": [
    {
     "data": {
      "text/plain": [
       "2    1057885\n",
       "1     182084\n",
       "0      31575\n",
       "Name: behaviour_norm, dtype: int64"
      ]
     },
     "execution_count": 30,
     "metadata": {},
     "output_type": "execute_result"
    }
   ],
   "source": [
    "d2['behaviour_norm'].value_counts() # # view distribution of behaviour norm after removing duplicates"
   ]
  },
  {
   "cell_type": "code",
   "execution_count": 31,
   "id": "0433a349",
   "metadata": {},
   "outputs": [
    {
     "data": {
      "text/plain": [
       "(1271544, 5)"
      ]
     },
     "execution_count": 31,
     "metadata": {},
     "output_type": "execute_result"
    }
   ],
   "source": [
    "d2.shape # view shape of data"
   ]
  },
  {
   "cell_type": "code",
   "execution_count": 32,
   "id": "c4507548",
   "metadata": {},
   "outputs": [],
   "source": [
    "df_state_1 = df_file2.loc[df_file2['state_norm'] == 1 ] # extract data with state norm == 1\n",
    "df_state_0 = df_file2.loc[df_file2['state_norm'] == 0 ] # extract data with state norm == 0"
   ]
  },
  {
   "cell_type": "code",
   "execution_count": 33,
   "id": "33fa4d71",
   "metadata": {},
   "outputs": [],
   "source": [
    "df_norm_final = df_file2.loc[d2.index, :]  # get data"
   ]
  },
  {
   "cell_type": "code",
   "execution_count": 34,
   "id": "58c7c1f5",
   "metadata": {},
   "outputs": [
    {
     "data": {
      "text/plain": [
       "(1271544, 17)"
      ]
     },
     "execution_count": 34,
     "metadata": {},
     "output_type": "execute_result"
    }
   ],
   "source": [
    "df_norm_final.shape # view data shape"
   ]
  },
  {
   "cell_type": "code",
   "execution_count": 35,
   "id": "fdef11fd",
   "metadata": {},
   "outputs": [],
   "source": [
    "# concatenate state norm == 1 & 0 with data that has no duplicates\n",
    "\n",
    "df_norm_final = pd.concat([df_norm_final, df_state_1, df_state_0], axis = 0) "
   ]
  },
  {
   "cell_type": "code",
   "execution_count": 36,
   "id": "aff948b5",
   "metadata": {},
   "outputs": [
    {
     "data": {
      "text/plain": [
       "2    1271544\n",
       "1      25895\n",
       "0      24105\n",
       "Name: state_norm, dtype: int64"
      ]
     },
     "execution_count": 36,
     "metadata": {},
     "output_type": "execute_result"
    }
   ],
   "source": [
    "df_norm_final['state_norm'].value_counts() # view distribution of state norm after adding duplicates for state norm"
   ]
  },
  {
   "cell_type": "code",
   "execution_count": 37,
   "id": "7d88d3ac",
   "metadata": {},
   "outputs": [
    {
     "data": {
      "text/plain": [
       "2    750849\n",
       "1    355871\n",
       "0    214824\n",
       "Name: action_norm, dtype: int64"
      ]
     },
     "execution_count": 37,
     "metadata": {},
     "output_type": "execute_result"
    }
   ],
   "source": [
    "df_norm_final['action_norm'].value_counts() # view distribution of action norm after adding duplicates for state norm"
   ]
  },
  {
   "cell_type": "code",
   "execution_count": 38,
   "id": "5aff4c69",
   "metadata": {},
   "outputs": [
    {
     "data": {
      "text/plain": [
       "2    1107885\n",
       "1     182084\n",
       "0      31575\n",
       "Name: behaviour_norm, dtype: int64"
      ]
     },
     "execution_count": 38,
     "metadata": {},
     "output_type": "execute_result"
    }
   ],
   "source": [
    "df_norm_final['behaviour_norm'].value_counts() # view distribution of behaviour norm after adding duplicates for state norm"
   ]
  },
  {
   "cell_type": "code",
   "execution_count": 39,
   "id": "faa6a69a",
   "metadata": {},
   "outputs": [
    {
     "data": {
      "text/plain": [
       "(1321544, 17)"
      ]
     },
     "execution_count": 39,
     "metadata": {},
     "output_type": "execute_result"
    }
   ],
   "source": [
    "df_norm_final.shape  # view data shape"
   ]
  },
  {
   "cell_type": "code",
   "execution_count": 40,
   "id": "6dcd28ce",
   "metadata": {},
   "outputs": [
    {
     "data": {
      "text/html": [
       "<div>\n",
       "<style scoped>\n",
       "    .dataframe tbody tr th:only-of-type {\n",
       "        vertical-align: middle;\n",
       "    }\n",
       "\n",
       "    .dataframe tbody tr th {\n",
       "        vertical-align: top;\n",
       "    }\n",
       "\n",
       "    .dataframe thead th {\n",
       "        text-align: right;\n",
       "    }\n",
       "</style>\n",
       "<table border=\"1\" class=\"dataframe\">\n",
       "  <thead>\n",
       "    <tr style=\"text-align: right;\">\n",
       "      <th></th>\n",
       "      <th>player_id</th>\n",
       "      <th>game_turn</th>\n",
       "      <th>observation</th>\n",
       "      <th>reward</th>\n",
       "      <th>action_mask</th>\n",
       "      <th>action</th>\n",
       "      <th>card0_colour</th>\n",
       "      <th>card0_rank</th>\n",
       "      <th>card1_colour</th>\n",
       "      <th>card1_rank</th>\n",
       "      <th>red_firework</th>\n",
       "      <th>yel_firework</th>\n",
       "      <th>info_tokens</th>\n",
       "      <th>state_norm</th>\n",
       "      <th>action_norm</th>\n",
       "      <th>shift_action</th>\n",
       "      <th>behaviour_norm</th>\n",
       "    </tr>\n",
       "  </thead>\n",
       "  <tbody>\n",
       "    <tr>\n",
       "      <th>887665</th>\n",
       "      <td>player_1</td>\n",
       "      <td>19</td>\n",
       "      <td>[0.0, 0.0, 1.0, 0.0, 0.0, 0.0, 0.0, 0.0, 0.0, ...</td>\n",
       "      <td>0</td>\n",
       "      <td>[1, 1, 1, 1, 1, 0, 0, 1, 1, 0, 0]</td>\n",
       "      <td>0</td>\n",
       "      <td>1</td>\n",
       "      <td>3</td>\n",
       "      <td>1</td>\n",
       "      <td>2</td>\n",
       "      <td>2</td>\n",
       "      <td>3</td>\n",
       "      <td>1</td>\n",
       "      <td>2</td>\n",
       "      <td>2</td>\n",
       "      <td>8</td>\n",
       "      <td>2</td>\n",
       "    </tr>\n",
       "    <tr>\n",
       "      <th>283638</th>\n",
       "      <td>player_1</td>\n",
       "      <td>21</td>\n",
       "      <td>[0.0, 0.0, 0.0, 0.0, 1.0, 0.0, 0.0, 0.0, 0.0, ...</td>\n",
       "      <td>0</td>\n",
       "      <td>[1, 1, 1, 1, 1, 0, 1, 0, 0, 0, 1]</td>\n",
       "      <td>3</td>\n",
       "      <td>1</td>\n",
       "      <td>5</td>\n",
       "      <td>1</td>\n",
       "      <td>1</td>\n",
       "      <td>1</td>\n",
       "      <td>2</td>\n",
       "      <td>1</td>\n",
       "      <td>2</td>\n",
       "      <td>2</td>\n",
       "      <td>7</td>\n",
       "      <td>2</td>\n",
       "    </tr>\n",
       "    <tr>\n",
       "      <th>437024</th>\n",
       "      <td>player_1</td>\n",
       "      <td>23</td>\n",
       "      <td>[0.0, 1.0, 0.0, 0.0, 0.0, 0.0, 0.0, 0.0, 0.0, ...</td>\n",
       "      <td>0</td>\n",
       "      <td>[1, 1, 1, 1, 1, 1, 0, 1, 0, 0, 0]</td>\n",
       "      <td>4</td>\n",
       "      <td>1</td>\n",
       "      <td>2</td>\n",
       "      <td>0</td>\n",
       "      <td>2</td>\n",
       "      <td>2</td>\n",
       "      <td>3</td>\n",
       "      <td>1</td>\n",
       "      <td>2</td>\n",
       "      <td>0</td>\n",
       "      <td>0</td>\n",
       "      <td>2</td>\n",
       "    </tr>\n",
       "    <tr>\n",
       "      <th>730087</th>\n",
       "      <td>player_0</td>\n",
       "      <td>24</td>\n",
       "      <td>[0.0, 0.0, 0.0, 0.0, 0.0, 0.0, 0.0, 1.0, 0.0, ...</td>\n",
       "      <td>0</td>\n",
       "      <td>[1, 1, 1, 1, 1, 1, 1, 0, 1, 0, 0]</td>\n",
       "      <td>8</td>\n",
       "      <td>0</td>\n",
       "      <td>3</td>\n",
       "      <td>1</td>\n",
       "      <td>1</td>\n",
       "      <td>2</td>\n",
       "      <td>2</td>\n",
       "      <td>1</td>\n",
       "      <td>2</td>\n",
       "      <td>1</td>\n",
       "      <td>0</td>\n",
       "      <td>2</td>\n",
       "    </tr>\n",
       "    <tr>\n",
       "      <th>381685</th>\n",
       "      <td>player_1</td>\n",
       "      <td>25</td>\n",
       "      <td>[0.0, 0.0, 1.0, 0.0, 0.0, 0.0, 0.0, 0.0, 0.0, ...</td>\n",
       "      <td>1</td>\n",
       "      <td>[1, 1, 1, 1, 0, 0, 0, 0, 0, 0, 0]</td>\n",
       "      <td>0</td>\n",
       "      <td>1</td>\n",
       "      <td>3</td>\n",
       "      <td>0</td>\n",
       "      <td>1</td>\n",
       "      <td>1</td>\n",
       "      <td>3</td>\n",
       "      <td>0</td>\n",
       "      <td>2</td>\n",
       "      <td>2</td>\n",
       "      <td>4</td>\n",
       "      <td>1</td>\n",
       "    </tr>\n",
       "  </tbody>\n",
       "</table>\n",
       "</div>"
      ],
      "text/plain": [
       "       player_id game_turn                                        observation  \\\n",
       "887665  player_1        19  [0.0, 0.0, 1.0, 0.0, 0.0, 0.0, 0.0, 0.0, 0.0, ...   \n",
       "283638  player_1        21  [0.0, 0.0, 0.0, 0.0, 1.0, 0.0, 0.0, 0.0, 0.0, ...   \n",
       "437024  player_1        23  [0.0, 1.0, 0.0, 0.0, 0.0, 0.0, 0.0, 0.0, 0.0, ...   \n",
       "730087  player_0        24  [0.0, 0.0, 0.0, 0.0, 0.0, 0.0, 0.0, 1.0, 0.0, ...   \n",
       "381685  player_1        25  [0.0, 0.0, 1.0, 0.0, 0.0, 0.0, 0.0, 0.0, 0.0, ...   \n",
       "\n",
       "       reward                        action_mask action  card0_colour  \\\n",
       "887665      0  [1, 1, 1, 1, 1, 0, 0, 1, 1, 0, 0]      0             1   \n",
       "283638      0  [1, 1, 1, 1, 1, 0, 1, 0, 0, 0, 1]      3             1   \n",
       "437024      0  [1, 1, 1, 1, 1, 1, 0, 1, 0, 0, 0]      4             1   \n",
       "730087      0  [1, 1, 1, 1, 1, 1, 1, 0, 1, 0, 0]      8             0   \n",
       "381685      1  [1, 1, 1, 1, 0, 0, 0, 0, 0, 0, 0]      0             1   \n",
       "\n",
       "        card0_rank  card1_colour  card1_rank  red_firework  yel_firework  \\\n",
       "887665           3             1           2             2             3   \n",
       "283638           5             1           1             1             2   \n",
       "437024           2             0           2             2             3   \n",
       "730087           3             1           1             2             2   \n",
       "381685           3             0           1             1             3   \n",
       "\n",
       "        info_tokens  state_norm  action_norm shift_action  behaviour_norm  \n",
       "887665            1           2            2            8               2  \n",
       "283638            1           2            2            7               2  \n",
       "437024            1           2            0            0               2  \n",
       "730087            1           2            1            0               2  \n",
       "381685            0           2            2            4               1  "
      ]
     },
     "execution_count": 40,
     "metadata": {},
     "output_type": "execute_result"
    }
   ],
   "source": [
    "df_norm_final.head() # view data"
   ]
  },
  {
   "cell_type": "code",
   "execution_count": 41,
   "id": "f9027aef",
   "metadata": {},
   "outputs": [
    {
     "data": {
      "text/plain": [
       "Index(['player_id', 'game_turn', 'observation', 'reward', 'action_mask',\n",
       "       'action', 'card0_colour', 'card0_rank', 'card1_colour', 'card1_rank',\n",
       "       'red_firework', 'yel_firework', 'info_tokens', 'state_norm',\n",
       "       'action_norm', 'shift_action', 'behaviour_norm'],\n",
       "      dtype='object')"
      ]
     },
     "execution_count": 41,
     "metadata": {},
     "output_type": "execute_result"
    }
   ],
   "source": [
    "df_norm_final.columns # view data columns"
   ]
  },
  {
   "cell_type": "code",
   "execution_count": 42,
   "id": "3cf9e510",
   "metadata": {},
   "outputs": [],
   "source": [
    "df_norm_final2 = df_norm_final.drop(['player_id', 'game_turn', 'reward', 'action_mask', 'card0_colour', 'card0_rank',\n",
    "                      'card1_colour', 'card1_rank', 'red_firework', 'yel_firework', 'info_tokens', 'shift_action'], axis = 1) # drop columns"
   ]
  },
  {
   "cell_type": "code",
   "execution_count": 43,
   "id": "eb05d684",
   "metadata": {},
   "outputs": [
    {
     "data": {
      "text/html": [
       "<div>\n",
       "<style scoped>\n",
       "    .dataframe tbody tr th:only-of-type {\n",
       "        vertical-align: middle;\n",
       "    }\n",
       "\n",
       "    .dataframe tbody tr th {\n",
       "        vertical-align: top;\n",
       "    }\n",
       "\n",
       "    .dataframe thead th {\n",
       "        text-align: right;\n",
       "    }\n",
       "</style>\n",
       "<table border=\"1\" class=\"dataframe\">\n",
       "  <thead>\n",
       "    <tr style=\"text-align: right;\">\n",
       "      <th></th>\n",
       "      <th>observation</th>\n",
       "      <th>action</th>\n",
       "      <th>state_norm</th>\n",
       "      <th>action_norm</th>\n",
       "      <th>behaviour_norm</th>\n",
       "    </tr>\n",
       "  </thead>\n",
       "  <tbody>\n",
       "    <tr>\n",
       "      <th>887665</th>\n",
       "      <td>[0.0, 0.0, 1.0, 0.0, 0.0, 0.0, 0.0, 0.0, 0.0, ...</td>\n",
       "      <td>0</td>\n",
       "      <td>2</td>\n",
       "      <td>2</td>\n",
       "      <td>2</td>\n",
       "    </tr>\n",
       "    <tr>\n",
       "      <th>283638</th>\n",
       "      <td>[0.0, 0.0, 0.0, 0.0, 1.0, 0.0, 0.0, 0.0, 0.0, ...</td>\n",
       "      <td>3</td>\n",
       "      <td>2</td>\n",
       "      <td>2</td>\n",
       "      <td>2</td>\n",
       "    </tr>\n",
       "    <tr>\n",
       "      <th>437024</th>\n",
       "      <td>[0.0, 1.0, 0.0, 0.0, 0.0, 0.0, 0.0, 0.0, 0.0, ...</td>\n",
       "      <td>4</td>\n",
       "      <td>2</td>\n",
       "      <td>0</td>\n",
       "      <td>2</td>\n",
       "    </tr>\n",
       "    <tr>\n",
       "      <th>730087</th>\n",
       "      <td>[0.0, 0.0, 0.0, 0.0, 0.0, 0.0, 0.0, 1.0, 0.0, ...</td>\n",
       "      <td>8</td>\n",
       "      <td>2</td>\n",
       "      <td>1</td>\n",
       "      <td>2</td>\n",
       "    </tr>\n",
       "    <tr>\n",
       "      <th>381685</th>\n",
       "      <td>[0.0, 0.0, 1.0, 0.0, 0.0, 0.0, 0.0, 0.0, 0.0, ...</td>\n",
       "      <td>0</td>\n",
       "      <td>2</td>\n",
       "      <td>2</td>\n",
       "      <td>1</td>\n",
       "    </tr>\n",
       "  </tbody>\n",
       "</table>\n",
       "</div>"
      ],
      "text/plain": [
       "                                              observation action  state_norm  \\\n",
       "887665  [0.0, 0.0, 1.0, 0.0, 0.0, 0.0, 0.0, 0.0, 0.0, ...      0           2   \n",
       "283638  [0.0, 0.0, 0.0, 0.0, 1.0, 0.0, 0.0, 0.0, 0.0, ...      3           2   \n",
       "437024  [0.0, 1.0, 0.0, 0.0, 0.0, 0.0, 0.0, 0.0, 0.0, ...      4           2   \n",
       "730087  [0.0, 0.0, 0.0, 0.0, 0.0, 0.0, 0.0, 1.0, 0.0, ...      8           2   \n",
       "381685  [0.0, 0.0, 1.0, 0.0, 0.0, 0.0, 0.0, 0.0, 0.0, ...      0           2   \n",
       "\n",
       "        action_norm  behaviour_norm  \n",
       "887665            2               2  \n",
       "283638            2               2  \n",
       "437024            0               2  \n",
       "730087            1               2  \n",
       "381685            2               1  "
      ]
     },
     "execution_count": 43,
     "metadata": {},
     "output_type": "execute_result"
    }
   ],
   "source": [
    "df_norm_final2.head() # view data "
   ]
  },
  {
   "cell_type": "code",
   "execution_count": 106,
   "id": "f1576838",
   "metadata": {},
   "outputs": [],
   "source": [
    "df_norm_final2.to_pickle('norm_data_no_duplicates.pkl') # save data with no duplicates to pickle file"
   ]
  },
  {
   "cell_type": "code",
   "execution_count": 110,
   "id": "d18cfb40",
   "metadata": {},
   "outputs": [
    {
     "data": {
      "text/plain": [
       "behaviour_norm  action\n",
       "0               2           8601\n",
       "                5           4140\n",
       "                4           3716\n",
       "                7           1853\n",
       "                9           1465\n",
       "                8           1464\n",
       "                6           1059\n",
       "                10           851\n",
       "                3             99\n",
       "1               1          92372\n",
       "                0          89712\n",
       "2               1         164055\n",
       "                0         146377\n",
       "                4         106612\n",
       "                8         103293\n",
       "                5         100356\n",
       "                3          97659\n",
       "                7          83898\n",
       "                2          75948\n",
       "                6          75153\n",
       "                9          59074\n",
       "                10         27761\n",
       "Name: action, dtype: int64"
      ]
     },
     "execution_count": 110,
     "metadata": {},
     "output_type": "execute_result"
    }
   ],
   "source": [
    "df_norm_final2.groupby('behaviour_norm')['action'].value_counts() # view action distribution based on behaviour norm"
   ]
  },
  {
   "cell_type": "code",
   "execution_count": 52,
   "id": "8412d851",
   "metadata": {},
   "outputs": [
    {
     "data": {
      "text/plain": [
       "action_norm  action\n",
       "0            4         121961\n",
       "             5         114997\n",
       "1            7         118290\n",
       "             6         118252\n",
       "             8         111276\n",
       "             9          76128\n",
       "             10         33561\n",
       "2            1         306156\n",
       "             0         283426\n",
       "             3         141748\n",
       "             2         106550\n",
       "Name: action, dtype: int64"
      ]
     },
     "execution_count": 52,
     "metadata": {},
     "output_type": "execute_result"
    }
   ],
   "source": [
    "df_file.groupby('action_norm')['action'].value_counts() #  # view action distribution based on action norm"
   ]
  },
  {
   "cell_type": "code",
   "execution_count": 46,
   "id": "cffbe68d",
   "metadata": {},
   "outputs": [
    {
     "data": {
      "image/png": "[encoded data removed]",
      "text/plain": [
       "<Figure size 700x450 with 1 Axes>"
      ]
     },
     "metadata": {},
     "output_type": "display_data"
    }
   ],
   "source": [
    "import seaborn as sns\n",
    "import matplotlib.pyplot as plt\n",
    "sns.set_theme(style=\"whitegrid\")\n",
    "\n",
    "# plot count values of action norm\n",
    "\n",
    "plt.figure(figsize = (7, 4.5))\n",
    "sns.countplot(x=df_norm_final2[\"action_norm\"])\n",
    "plt.xlabel('action norm labels')\n",
    "# plt.title('Count of Action Norm Values')\n",
    "plt.savefig('action_norm.png')\n",
    "plt.show()"
   ]
  },
  {
   "cell_type": "code",
   "execution_count": 47,
   "id": "933967db",
   "metadata": {},
   "outputs": [
    {
     "data": {
      "image/png": "[encoded data removed]",
      "text/plain": [
       "<Figure size 700x450 with 1 Axes>"
      ]
     },
     "metadata": {},
     "output_type": "display_data"
    }
   ],
   "source": [
    "# plot log count values of state norm\n",
    "\n",
    "plt.figure(figsize = (7, 4.5))\n",
    "sns.countplot(x=df_norm_final2[\"state_norm\"])\n",
    "plt.xlabel('state norm labels')\n",
    "plt.ylabel('log count')\n",
    "# plt.title('Count of State Norm Values')\n",
    "plt.yscale('log')\n",
    "plt.savefig('state_norm.png')\n",
    "plt.show()"
   ]
  },
  {
   "cell_type": "code",
   "execution_count": 48,
   "id": "45417e76",
   "metadata": {},
   "outputs": [
    {
     "data": {
      "image/png": "[encoded data removed]",
      "text/plain": [
       "<Figure size 700x450 with 1 Axes>"
      ]
     },
     "metadata": {},
     "output_type": "display_data"
    }
   ],
   "source": [
    "# plot count values of behaviour norm\n",
    "\n",
    "plt.figure(figsize = (7, 4.5))\n",
    "sns.countplot(x=df_norm_final2[\"behaviour_norm\"])\n",
    "plt.xlabel('behaviour norm labels')\n",
    "# plt.ylabel('log count')\n",
    "# plt.title('Count of Behaviour Norm Values')\n",
    "# plt.yscale('log')\n",
    "plt.savefig('behaviour_norm.png')\n",
    "plt.show()"
   ]
  },
  {
   "cell_type": "code",
   "execution_count": 43,
   "id": "ec2696bc",
   "metadata": {},
   "outputs": [],
   "source": [
    "df_file.to_pickle('norm_data.pkl') # save data to pickle file"
   ]
  },
  {
   "cell_type": "code",
   "execution_count": 22,
   "id": "d7718005",
   "metadata": {},
   "outputs": [],
   "source": [
    "from sklearn.utils import shuffle\n",
    "df = shuffle(df_file2) # shuffle data"
   ]
  },
  {
   "cell_type": "code",
   "execution_count": null,
   "id": "838163da",
   "metadata": {},
   "outputs": [],
   "source": []
  }
 ],
 "metadata": {
  "kernelspec": {
   "display_name": "Python 3 (ipykernel)",
   "language": "python",
   "name": "python3"
  },
  "language_info": {
   "codemirror_mode": {
    "name": "ipython",
    "version": 3
   },
   "file_extension": ".py",
   "mimetype": "text/x-python",
   "name": "python",
   "nbconvert_exporter": "python",
   "pygments_lexer": "ipython3",
   "version": "3.8.17"
  }
 },
 "nbformat": 4,
 "nbformat_minor": 5
}
